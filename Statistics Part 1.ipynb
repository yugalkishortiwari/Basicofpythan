{
 "cells": [
  {
   "cell_type": "code",
   "execution_count": null,
   "id": "865b2c2c-5bf3-41eb-a8a8-64d0dafdb9b5",
   "metadata": {},
   "outputs": [],
   "source": [
    "# 1 What is a random variable in probability theory?\n",
    "\n",
    "# Ans - A random variable is a variable that takes on different numerical values depending on the outcome of a random experiment.\n",
    "#       Key Concepts:\n",
    "#       It maps outcomes from a sample space to real numbers.\n",
    "#       It is not truly random—it’s a function that assigns a number to each outcome of a random process.\n",
    "\n",
    " "
   ]
  },
  {
   "cell_type": "code",
   "execution_count": null,
   "id": "1be50b86-88b7-4e76-b81b-877443336245",
   "metadata": {},
   "outputs": [],
   "source": [
    "# 2   What are the types of random variables?\n",
    "\n",
    "# Ans Random variables are classified based on the kind of values they can take. There are two main types:\n",
    "# Definition: A random variable that can take a countable number of distinct values.\n",
    "# Values: Often integers (e.g., 0, 1, 2, 3…).\n",
    "\n",
    "# Examples:\n",
    "# Number of heads in 5 coin tosses.\n",
    "# Number of students present in class.\n",
    "# Rolling a die (values: 1 to 6)."
   ]
  },
  {
   "cell_type": "code",
   "execution_count": null,
   "id": "f98bdea0-3704-41ca-86ac-5c908d4eaf38",
   "metadata": {},
   "outputs": [],
   "source": [
    "# 3 What is the difference between discrete and continuous distributions?\n",
    "\n",
    "#Ans In probability and statistics, distributions describe how the values of a random variable are spread out. \n",
    "#    These distributions are classified based on whether the variableis discrete or continuous.\n",
    "#   1. Discrete Distributions\n",
    "#   2. Continuous Distributions\n",
    "\n",
    "#   Summary Table:\n",
    "#    Feature\t                          Discrete Distribution\t                          Continuous Distribution\n",
    "\n",
    "#    Type of variable\t                  Discrete (countable)\t                          Continuous (uncountable)\n",
    "#    Example values\t                      0, 1, 2, 3\t                                  1.2, 3.14, 7.89\n"
   ]
  },
  {
   "cell_type": "code",
   "execution_count": null,
   "id": "2fa7fb60-9a99-4cfc-8625-0528b044d46c",
   "metadata": {},
   "outputs": [],
   "source": [
    "# 4 What are probability distribution functions (PDF)?\n",
    "# Ans  A PDF (Probability Density Function) is a function f(x) that describes the likelihood of a continuous random variable taking on a \n",
    "#      particular value in a range.\n",
    "#      The PDF graph looks like a smooth curve.\n",
    "#      The area under the curve between two points (e.g., from x = 1 to x = 3) represents the probability that the variable falls in that range."
   ]
  },
  {
   "cell_type": "code",
   "execution_count": null,
   "id": "1e9ba3ca-77b1-45ea-ba59-ebfae32a5c1c",
   "metadata": {},
   "outputs": [],
   "source": [
    "# 5  How do cumulative distribution functions (CDF) differ from probability distribution functions (PDF)?\n",
    "\n",
    "# Ans Difference Between PDF and CDF\n",
    "\n",
    "#     Both PDF (Probability Density Function) and CDF (Cumulative Distribution Function) describe the behavior \n",
    "#     of random variables — but they answer different questions..\n",
    "#      1. PDF – Probability Density Function\n",
    "#      Used for: Continuous random variables.\n",
    "#      Tells you: How dense the probability is at a point.\n",
    "#      Probability of a range: Found by calculating the area under the curve of the PDF."
   ]
  },
  {
   "cell_type": "code",
   "execution_count": null,
   "id": "3374c926-fde3-4bc8-8bf7-e936f43ee68d",
   "metadata": {},
   "outputs": [],
   "source": [
    "# 6   What is a discrete uniform distribution?\n",
    "\n",
    "# Ans A discrete uniform distribution is a type of probability distribution where all outcomes are equally likely.\n",
    "#    It applies to discrete (countable) random variables.\n",
    "#    A random variable \n",
    "#    X has a discrete uniform distribution if it takes on n distinct values x 1​ ,x 2​,...,x n , and each has the same probability:\n"
   ]
  },
  {
   "cell_type": "code",
   "execution_count": null,
   "id": "b2182391-9764-48f0-b784-84a2ed798fc7",
   "metadata": {},
   "outputs": [],
   "source": [
    "# 7 What are the key properties of a Bernoulli distribution?\n",
    "\n",
    "#Ans  The Bernoulli distribution is one of the simplest and most important distributions in probability theory and statistics.\n",
    "#     A Bernoulli distribution models a single experiment (trial) that has only two possible outcomes:\n",
    "\n",
    "#     Success (usually coded as 1)\n",
    "#     Failure (usually coded as 0)\n",
    "#     It is defined by a single parameter \n",
    "#     𝑝\n",
    "#     p, the probability of success."
   ]
  },
  {
   "cell_type": "code",
   "execution_count": null,
   "id": "5436a720-c52d-471a-876e-0c8dbb5b3579",
   "metadata": {},
   "outputs": [],
   "source": [
    "# 8 What is the binomial distribution, and how is it used in probability?\n",
    "# Ans The Binomial distribution is a discrete probability distribution that models the number of successes in a fixed number of independent trials of a Bernoulli \n",
    "#     experiment (an experiment with two outcomes: success or failure).\n",
    "#      A random variable \n",
    "\n",
    "#    X follows a Binomial distribution if:\n",
    "\n",
    "#    The experiment consists of n independent trials.\n",
    "\n",
    "#    Each trial has only two outcomes: success (with probability 𝑝p) or failure (with probability 1−𝑝1−p).𝑋X counts the number of successes in those 𝑛n trials."
   ]
  },
  {
   "cell_type": "code",
   "execution_count": null,
   "id": "258d8ed1-464d-4548-ae8e-f4b52e419c86",
   "metadata": {},
   "outputs": [],
   "source": [
    "# 9 What is the Poisson distribution and where is it applied?\n",
    "\n",
    "# Ans The Poisson distribution is used to describe the probability of a given number of events happening in a fixed period of time (or space), where:\n",
    "\n",
    "#   The events occur randomly and independently.\n",
    "\n",
    "#   The average rate (mean) of occurrences is known and constant.\n",
    "\n",
    "#  A random variable 𝑋X follows a Poisson distribution with parameter 𝜆λ (the average rate of occurrence), denoted as:\n"
   ]
  },
  {
   "cell_type": "code",
   "execution_count": null,
   "id": "b7c957a6-4c4b-46a6-8eef-e15e64c88b34",
   "metadata": {},
   "outputs": [],
   "source": [
    "# 10 What is a continuous uniform distribution? \n",
    "\n",
    "# Ans  A Continuous Uniform Distribution is a type of probability distribution where a continuous random variable has equal probability of taking anyZ\n",
    "#      value within a specific range.\n",
    "#     In other words, every interval of equal length within the distribution's domain is equally likely to occur. \n",
    "#     The distribution is called \"uniform\" because the probability density function (PDF) is constant across the range.\n",
    "\n",
    "# Definition:\n",
    "#  If a continuous random variable 𝑋X has a uniform distribution over the interval [𝑎,𝑏][a,b], we write:\n"
   ]
  },
  {
   "cell_type": "code",
   "execution_count": null,
   "id": "f17fe4e4-1222-4999-b585-c2951b430215",
   "metadata": {},
   "outputs": [],
   "source": [
    "# 11  What are the characteristics of a normal distribution\n",
    "\n",
    "#Ans The Normal distribution, also known as the Gaussian distribution, is one of the most important and widely used distributions in statistics. It describes how a set of \n",
    "#    data points are distributed in a symmetric, bell-shaped curve.\n",
    "#    \n",
    "#   The Normal Distribution Curve (Bell Curve):\n",
    "#   The mean (μ) is at the center, and the curve falls off symmetrically as you move away from the mean.\n",
    "\n",
    "#   The spread is determined by the standard deviation (σ), with a smaller σ producing a sharper curve and a larger σ producing a flatter curve."
   ]
  },
  {
   "cell_type": "code",
   "execution_count": null,
   "id": "a047c1ea-1c20-4632-b28b-c83f0a98fd30",
   "metadata": {},
   "outputs": [],
   "source": [
    "# 12 What is the standard normal distribution, and why is it important?\n",
    "\n",
    "# Ans The Standard Normal Distribution is a specific type of Normal distribution that has a mean of 0 and a standard deviation of 1. \n",
    "#     It is often denoted as \n",
    "#     𝑍Z and is used as a reference distribution to standardize normal variables and make comparisons across different normal distributions. \n",
    "#     We can use the standard normal distribution to transform any normal distribution into a standard normal distribution through a process called\n",
    "#     z-score transformation."
   ]
  },
  {
   "cell_type": "code",
   "execution_count": null,
   "id": "7226b245-9832-4bdd-b2ff-2eadc798bd51",
   "metadata": {},
   "outputs": [],
   "source": [
    "# 13 = What is the Central Limit Theorem (CLT), and why is it critical in statistics?\n",
    "\n",
    "# Ans The Central Limit Theorem (CLT) is a fundamental concept in statistics that explains how the sampling distribution of the sample mean\n",
    "#      approaches a normal distribution as the sample size increases, regardless of the shape of the original population distribution.\n",
    "#      In other words, the CLT shows that the distribution of sample means becomes approximately normal if we take a sufficiently large number \n",
    "#      of samples, even if the population itself is not normally distributed.\n",
    "#       Before applying the CLT, the population distribution does not need to be normal. The CLT applies to any distribution — \n",
    "#       whether it is skewed, uniform, or irregular.\n",
    "#       The sampling distribution of the sample mean is the distribution of the means from all possible samples of size \n",
    "#       𝑛n drawn from the population.\n",
    "\n"
   ]
  },
  {
   "cell_type": "code",
   "execution_count": null,
   "id": "da80ba0d-07f0-4ceb-aa1d-2af580f9e44c",
   "metadata": {},
   "outputs": [],
   "source": [
    "# 14 How does the Central Limit Theorem relate to the normal distribution?\n",
    "\n",
    "# Ans The Central Limit Theorem (CLT) is deeply connected to the Normal Distribution, as it explains how the sampling distribution of the sample mean approaches a normal distribution, even when \n",
    "#     the population from which the sample is drawn is not normally distributed.\n",
    "#     For a large enough sample size \n",
    "\n",
    "#     𝑛n, the distribution of the sample mean (or sum) from any population, no matter its shape, will be approximately normal.\n",
    "\n",
    "#     As you repeatedly take random samples of size \n",
    "\n",
    "#     𝑛n from any population (whether it's skewed, uniform, or any other shape), the distribution of the sample means will tend \n",
    "#     to resemble a normal distribution as the sample size increases.\n",
    "\n",
    "#     CLT tells us that when we collect many samples from a population and calculate the means, the resulting distribution of these means \n",
    "#     will approximate a normal distribution."
   ]
  },
  {
   "cell_type": "code",
   "execution_count": null,
   "id": "564bde7e-f2d7-474d-8f62-ebef141f648e",
   "metadata": {},
   "outputs": [],
   "source": [
    "# 15 What is the application of Z statistics in hypothesis testing?\n",
    "# Ans Z-statistics (or Z-scores) play a crucial role in hypothesis testing within statistical inference. They are used to determine whether the observed sample data significantly deviates from a hypothesized population parameter. Z-statistics are particularly useful when the \n",
    "#     population standard deviation is known or when the sample size is large enough for the Central Limit Theorem to apply.\n",
    "#     A Z-statistic is a standard score that tells us how many standard deviations a particular value is away from the mean of the population or sample. \n",
    "#     It is calculated using the formula:\n",
    "\n",
    "#     In hypothesis testing, Z-statistics are used to test whether the observed sample data provides sufficient evidence to reject the null\n",
    "#     hypothesis. The null hypothesis (H₀) typically states that there is no effect or no difference, while the alternative hypothesis (H₁) \n",
    "#     suggests that there is a significant difference."
   ]
  },
  {
   "cell_type": "code",
   "execution_count": null,
   "id": "3158cc77-85d5-4f54-8e62-773a59403823",
   "metadata": {},
   "outputs": [],
   "source": [
    "# 16 How do you calculate a Z-score, and what does it represent?\n",
    "\n",
    "# Ans A Z-score (also known as a standard score or z-value) is a way of standardizing a data point relative to the mean of a\n",
    "#     dataset, expressing how many standard deviations the value is from the mean. It allows you to compare values from different distributions\n",
    "#     or scales by transforming them to a common scale.\n",
    "#     Z-scores are often used in probability calculations, especially when working with the normal distribution. Once you have the Z-score, \n",
    "#     you can use it to find probabilities or percentile ranks by looking it up in a Z-table (or using statistical software).\n"
   ]
  },
  {
   "cell_type": "code",
   "execution_count": null,
   "id": "18803da2-6538-45df-b09f-6590dbab99a9",
   "metadata": {},
   "outputs": [],
   "source": [
    "# 17 What are point estimates and interval estimates in statistics?\n",
    "\n",
    "#Ans  A point estimate is a single value or a single statistic that is used to estimate an unknown population parameter. \n",
    "#     It gives us the best guess for the value of a population parameter based on the sample data, but it does not provide any measure of uncertainty.\n",
    "\n",
    "#     Example: If you want to estimate the average height of all students in a school, you might take a random sample and compute the sample mean.\n",
    "#              The sample mean is a point estimate of the population mean.\n",
    "#             An interval estimate provides a range of values within which the population parameter is likely to fall. \n",
    "#             This range is typically constructed by adding margin of error to a point estimate.\n",
    "#             Unlike point estimates, interval estimates give us more information by expressing uncertainty or confidence about the estimate."
   ]
  },
  {
   "cell_type": "code",
   "execution_count": null,
   "id": "aaee2c50-3bd9-4dff-82f9-3ac43662a94b",
   "metadata": {},
   "outputs": [],
   "source": [
    "# 18 What is the significance of confidence intervals in statistical analysis?\n",
    "\n",
    "# Ans -  Confidence intervals (CIs) are a vital concept in statistical analysis because they provide a range of values within which we \n",
    "#        expect a population parameter (like the population mean, proportion, or difference between means) to lie, with a certain level of confidence. They are crucial for \n",
    "#        understanding the precision and uncertainty of estimates derived from sample data.\n",
    "#        Quantifying Uncertainty:\n",
    "#        Unlike point estimates (which give a single value), a confidence interval provides a range of values that accounts \n",
    "#        for sampling variability. It gives us a clearer sense of how much uncertainty exists in our estimate.\n"
   ]
  },
  {
   "cell_type": "code",
   "execution_count": null,
   "id": "8e7566b9-f52d-489b-9f37-bf5276f7d8b4",
   "metadata": {},
   "outputs": [],
   "source": [
    "# 19 What is the relationship between a Z-score and a confidence interval?\n",
    "\n",
    "#Ans  The Z-score and the confidence interval (CI) are tightly connected in inferential statistics. \n",
    "#     The Z-score determines how many standard deviations a value is from the mean, and it is directly used to construct confidence intervals \n",
    "#     when estimating population parameters like the mean or proportion.\n",
    "\n",
    "\n",
    "#         Key Idea:\n",
    "\n",
    "#                  A confidence interval is essentially built by taking a point estimate (like the sample mean) and adding and subtracting \n",
    "#                  a margin of error. This margin of error is calculated using a Z-score (from the standard normal distribution) when the\n",
    "#                  population standard deviation is known or the sample size is large."
   ]
  },
  {
   "cell_type": "code",
   "execution_count": null,
   "id": "d3f929ea-6be7-4f06-8a16-367fd478fc61",
   "metadata": {},
   "outputs": [],
   "source": [
    "# 20  How are Z-scores used to compare different distributions?\n",
    "\n",
    "# Ans  Z-scores are a powerful tool in statistics because they allow you to standardize values from different distributions and make them directly comparable — \n",
    "#      even if the original data sets have different means and standard deviations.\n",
    "#      \n",
    "#           Key Takeaways:\n",
    "\n",
    "#                      Z-scores standardize values from different distributions.\n",
    "\n",
    "#                      They express how far a value is from the mean in standard deviations.\n",
    "\n",
    "#                      Z-scores enable fair comparison across different units, scales, or contexts."
   ]
  },
  {
   "cell_type": "code",
   "execution_count": null,
   "id": "79762bc8-6d70-49be-b85a-535eed28f5f8",
   "metadata": {},
   "outputs": [],
   "source": [
    "# 21 = What are the assumptions for applying the Central Limit Theorem?\n",
    "\n",
    "#  Ans  The Central Limit Theorem (CLT) is one of the most important results in statistics. It states that the \n",
    "#       sampling distribution of the sample mean (or sum) will approximate a normal distribution, regardless of the population's\n",
    "#       distribution, given a large enough sample size.\n",
    "\n",
    "#      But for this to hold, certain assumptions must be met."
   ]
  },
  {
   "cell_type": "code",
   "execution_count": null,
   "id": "048b9c3c-3cf8-4b0e-b20b-6d7b1fc8c149",
   "metadata": {},
   "outputs": [],
   "source": [
    "# 22 What is the concept of expected value in a probability distribution?\n",
    "\n",
    "# Ans The expected value (also called the mean or expectation) of a random variable is a weighted average of all\n",
    "#      possible values that the variable can take, weighted by their probabilities.\n",
    "\n",
    "#     It represents the long-run average outcome of a random process if it were repeated infinitely many times.\n",
    "#     It’s like the center of gravity of the distribution.\n",
    "\n",
    "#    It tells you what value to expect on average in the long run, even if no single outcome is exactly equal to the expected value.\n",
    "#    "
   ]
  },
  {
   "cell_type": "code",
   "execution_count": null,
   "id": "4f796824-f1b1-4075-b697-62160e620d16",
   "metadata": {},
   "outputs": [],
   "source": [
    "# 23  How does a probability distribution relate to the expected outcome of a random variable?\n",
    "\n",
    "# Ans A probability distribution describes how likely each possible outcome of a random variable is. \n",
    "#     The expected outcome (or expected value) of a random variable is a summary measure of that distribution — \n",
    "#     it tells you the average result you'd expect if the random process were repeated many times.\n",
    "#      "
   ]
  }
 ],
 "metadata": {
  "kernelspec": {
   "display_name": "Python 3 (ipykernel)",
   "language": "python",
   "name": "python3"
  },
  "language_info": {
   "codemirror_mode": {
    "name": "ipython",
    "version": 3
   },
   "file_extension": ".py",
   "mimetype": "text/x-python",
   "name": "python",
   "nbconvert_exporter": "python",
   "pygments_lexer": "ipython3",
   "version": "3.13.2"
  }
 },
 "nbformat": 4,
 "nbformat_minor": 5
}
