{
 "cells": [
  {
   "cell_type": "code",
   "execution_count": null,
   "id": "e1946964-d06c-4b25-b0e3-71f7e46396d1",
   "metadata": {},
   "outputs": [],
   "source": [
    "#  Files, exceptional handling,logging and memory management"
   ]
  },
  {
   "cell_type": "code",
   "execution_count": null,
   "id": "0f296768-217b-4fae-9f0b-db3a93193935",
   "metadata": {},
   "outputs": [],
   "source": [
    "# 1. What is the difference between interpreted and compiled languages?\n",
    "\n",
    "# Ans - The difference between interpreted and compiled languages comes down to how code is translated into machine language (the binary instructions a \n",
    "#       computer can understand and execute).\n",
    "\n",
    "#       Interpreted Languages where Code is translated line-by-line at runtime by an interpreter.Examples: Python, JavaScript, Ruby, PHP\n",
    "#       Compiled Languages where Code is translated all at once into machine code by a compiler before it is run.Examples: C, C++, Rust."
   ]
  },
  {
   "cell_type": "code",
   "execution_count": null,
   "id": "c040152c-7613-4544-a2be-2c557fddbc6a",
   "metadata": {},
   "outputs": [],
   "source": [
    "# 2. What is exception handling in Python?\n",
    "\n",
    "# Ans - Exception handling in Python is a way to gracefully deal with errors that happen during the execution of your code — instead of crashing the \n",
    "#       program, you can catch the error, respond to it, and continue or exit cleanly."
   ]
  },
  {
   "cell_type": "code",
   "execution_count": null,
   "id": "fa64be5e-363a-4820-926b-4332933bdda8",
   "metadata": {},
   "outputs": [],
   "source": [
    "# 3. What is the purpose of the finally block in exception handling?\n",
    "\n",
    "# Ans - The finally block in Python’s exception handling is used to define code that should run no matter what — whether an exception occurred or not.\n",
    "#       It ensures that cleanup code or final steps always get executed.It runs If no exception occurs or If an exception occurs and is caught or If an \n",
    "#       exception occurs and is not caught or Even if there’s a return, break, or continue in the try/except block."
   ]
  },
  {
   "cell_type": "code",
   "execution_count": 3,
   "id": "69689d70-211a-489c-9381-64a1f0476abe",
   "metadata": {},
   "outputs": [
    {
     "name": "stdout",
     "output_type": "stream",
     "text": [
      "Object `Python` not found.\n"
     ]
    }
   ],
   "source": [
    "  4. What is logging in Python?\n",
    "\n",
    "# Ans - Logging in Python is a built-in way to track events that happen when your program runs. It's like a smart print system for debugging, monitoring\n",
    "#       and auditing your code.Logging lets us to control what gets shown and where (console, file, etc.).It also assign severity levels to messages."
   ]
  },
  {
   "cell_type": "code",
   "execution_count": null,
   "id": "509d7f45-4336-418c-bf6c-f66d253baed9",
   "metadata": {},
   "outputs": [],
   "source": [
    "# 5. What is the significance of the __del__ method in Python?\n",
    "\n",
    "# Ans - The __del__ method in Python is a special method called a destructor. It's used to clean up resources when an object is about to be destroyed\n",
    "#       — typically when it's no longer in use and garbage collected.\n",
    "\n",
    "#      It's commonly used to release external resources like:\n",
    "\n",
    "#        1. File handles\n",
    "#        2. Database connections\n",
    "#        3. Network sockets\n",
    "#        4. Custom cleanup logic"
   ]
  },
  {
   "cell_type": "code",
   "execution_count": null,
   "id": "4a8c7c90-2415-4df3-b523-6149a93211ff",
   "metadata": {},
   "outputs": [],
   "source": [
    "# 6. What is the difference between import and from ... import in Python?\n",
    "\n",
    "# Ans - import and from ... import are used in Python to bring code from modules into your program — but they do it in slightly different ways\n",
    "\n",
    "#       In import Statement we have to prefix everything from the module with its name and from ... import Statement we can use them directly without \n",
    "#       the module prefix.We can use import when we want clarity or using many things from the module or we want want to avoid name conflicts.We can use\n",
    "#       Use from ... import when we need just a few functions or classes or we want cleaner, shorter code."
   ]
  },
  {
   "cell_type": "code",
   "execution_count": null,
   "id": "a34836ea-1c09-4bc8-a6d3-c3dd0719e9a0",
   "metadata": {},
   "outputs": [],
   "source": [
    "# 7. How can you handle multiple exceptions in Python?\n",
    "\n",
    "# Ans - In Python, you can handle multiple exceptions in a few different ways depending on your needs. Here’s a breakdown of the most common approaches:\n",
    "\n",
    "#      1. Handle multiple specific exceptions separately\n",
    "#      2. Handle multiple exceptions in a single block\n",
    "#      3. Using else and finally with exceptions\n",
    "#      4. Catch all exceptions"
   ]
  },
  {
   "cell_type": "code",
   "execution_count": null,
   "id": "7ffef2fc-37f1-45c3-bee4-c4b0b6aedde6",
   "metadata": {},
   "outputs": [],
   "source": [
    "# 8. What is the purpose of the with statement when handling files in Python?\n",
    "\n",
    "# Ans - The with statement in Python is used for resource management, especially when working with files. Its main purpose is to ensure that resources\n",
    "#       like files are properly cleaned up (i.e., closed) after they are no longer needed—even if an exception is raised.With statement is Cleaner and\n",
    "#       more readable code.It has No need to explicitly call file.close() and It works with other context managers too (e.g., database connections, \n",
    "#       sockets, threading locks)."
   ]
  },
  {
   "cell_type": "code",
   "execution_count": null,
   "id": "20df207d-3e3c-4616-8f2d-279f89415c44",
   "metadata": {},
   "outputs": [],
   "source": [
    "# 9. What is the difference between multithreading and multiprocessing?\n",
    "\n",
    "# Ans - Both multithreading and multiprocessing are techniques used to execute code concurrently, but they work in different ways and have different \n",
    "#       use cases.\n",
    "\n",
    "#       Multithreading is running multiple threads (smaller units of a process) within the same process.It is good for I/O-bound tasks (e.g., \n",
    "#       reading/writing files, network requests, database access).If we talk about advantages Multithreading is lightweight (less memory overhead) and\n",
    "#       Suitable for tasks that need concurrent execution but don’t require much CPU time (waiting on I/O).\n",
    "\n",
    "#      Multiprocessing os Running multiple processes (independent memory and Python interpreters).Each process runs in its own Python interpreter with\n",
    "#      its own memory space.It is good for Good for CPU-bound tasks (e.g., heavy computation, data processing) and True parallelism, bypassing the GIL.\n",
    "#      If we talk about advantages Each process runs independently, and there’s no GIL limitation, so it can run in parallel on multiple CPU cores and It\n",
    "#      can fully utilize multiple processors (or cores) in a system. "
   ]
  },
  {
   "cell_type": "code",
   "execution_count": null,
   "id": "e22cbb06-a78d-4366-8eb4-b50de0c9ff0c",
   "metadata": {},
   "outputs": [],
   "source": [
    "# 10. What are the advantages of using logging in a program?\n",
    "\n",
    "# Ans - Using logging in a program has several important advantages, especially as your codebase grows or becomes more complex. Here's a breakdown of why\n",
    "#       logging is better than just using print(), and what it brings to the table:\n",
    "\n",
    "#       1. Helps with Debugging and Monitoring while Logs provide a history of events that occurred while your program ran and Makes it easier to trace\n",
    "#       issues or understand program flow after something goes wrong.\n",
    "#       2. Different Levels of Severity\n",
    "#       3. Easy to Turn On/Off or Redirect where one can write logs to a file, console, or even a remote server and one can disable or filter logs in \n",
    "#       production without changing code.\n",
    "#       4. Better Than print() for Production as print() statements are messy and don’t scale whereas Logging gives structured, timestamped, and leveled \n",
    "#        output that anyone can manage.\n",
    "#       5. Logs are essential in automated or headless systems (like servers, scripts, or background jobs) where anyone can't watch the output live."
   ]
  },
  {
   "cell_type": "code",
   "execution_count": null,
   "id": "f2edae74-fa1c-49f7-9aac-0e6c9522adaa",
   "metadata": {},
   "outputs": [],
   "source": [
    "# 11. What is memory management in Python?\n",
    "\n",
    "# Ans - Memory management in Python refers to how the Python interpreter allocates, uses, and reclaims memory during a program's execution.Pythonhandles\n",
    "#       memory management automatically, But it’s helpful to understand what’s happening under the hood—especially when you're working with large data\n",
    "#       or building performance-critical apps."
   ]
  },
  {
   "cell_type": "code",
   "execution_count": null,
   "id": "391e7963-bc96-4030-8c83-132f7bd4fba1",
   "metadata": {},
   "outputs": [],
   "source": [
    "# 12. What are the basic steps involved in exception handling in Python?\n",
    "\n",
    "# Ans - Basic Steps in Python Exception Handling\n",
    "\n",
    "#        1. Try Block – Watch for Errors\n",
    "#        2. Except Block – Handle the Error\n",
    "#        3. Else Block (Optional) – Run If No Error\n",
    "#        4. Finally Block (Optional) – Always Run"
   ]
  },
  {
   "cell_type": "code",
   "execution_count": null,
   "id": "072e2e8b-7a71-4b49-a32e-a97d4f9275a6",
   "metadata": {},
   "outputs": [],
   "source": [
    "# 13. Why is memory management important in Python?\n",
    "\n",
    "# Ans - Memory management is super important in Python (and in programming in general) because it directly affects the performance, efficiency, and \n",
    "#       stability of your application.Efficient memory management ensures your program uses only what it needs, leaving room for other processes.Keeping\n",
    "#       memory usage low reduces garbage collection cycles and boosts speed.Python's memory manager does a good job, but if your program keeps \n",
    "#       unnecessary objects alive, it slows things down.It prevents Memory leaks and helps in Profiling and Optimization."
   ]
  },
  {
   "cell_type": "code",
   "execution_count": null,
   "id": "59f09b1f-6ba2-433b-8c7e-90f5942b02a8",
   "metadata": {},
   "outputs": [],
   "source": [
    "# 14. What is the role of try and except in exception handling?\n",
    "\n",
    "# Ans - The try and except blocks are core tools in Python's exception handling system. They allow you to respond gracefully to runtime errors rather \n",
    "#       than letting your program crash.In try Block one can put code that might cause an exception whereas in except Block one can handle the exception.\n",
    "#       Both are useful as they prevents the  program from crashing unexpectedly and allows to give meaningful feedback to users.try and except in \n",
    "#       exception handling makes  code more robust and professional."
   ]
  },
  {
   "cell_type": "code",
   "execution_count": null,
   "id": "03697fcc-af57-47f1-bde7-6df8a856063d",
   "metadata": {},
   "outputs": [],
   "source": [
    "# 15. How does Python's garbage collection system work?\n",
    "\n",
    "# Ans - Python’s garbage collection (GC) system is one of the reasons memory management feels \"automatic\" for developers—but it’s doing a lot under the \n",
    "#       hood. Let’s break it down.It is the is the process of automatically identifying and freeing up memory used by objects that are no longer needed \n",
    "#       by the program.Python’s garbage collection system works in two main ways - one is Reference Counting (Primary method) and the other is Cyclic \n",
    "#       Garbage Collector (Handles reference cycles).In Reference counting,every object in Python has an internal counter that tracks how many references point to it.When an \n",
    "#       object’s reference count hits zero, it means nothing is using it anymore, and it can be safely deleted.In cyclic Garbage Collector(Handles\n",
    "#       reference cycles) Reference counting can't detect circular references (e.g., object A refers to B and B refers to A)and Python uses the gc module\n",
    "#       to track and clean up cycles."
   ]
  },
  {
   "cell_type": "code",
   "execution_count": null,
   "id": "e883e444-ded4-4fa0-aa55-29e6fc67c274",
   "metadata": {},
   "outputs": [],
   "source": [
    "# 16. What is the purpose of the else block in exception handling?\n",
    "\n",
    "# Ans - The else block is used to define code that should run only if no exceptions are raised in the try block.It Keeps your try block focused on risky\n",
    "#       code only and it separates error handling (except) from normal execution (else).Also it makes your code cleaner and more readable."
   ]
  },
  {
   "cell_type": "code",
   "execution_count": null,
   "id": "ffee0430-9db0-43ca-804b-791d6ecf4f6c",
   "metadata": {},
   "outputs": [],
   "source": [
    "# 17. What are the common logging levels in Python?\n",
    "\n",
    "# Ans - Python’s built-in logging module provides standard logging levels to indicate the severity or importance of events in your program.\n",
    "\n",
    "#       Common Logging Levels (from lowest to highest severity):\n",
    "#              Level Name\t     Level Number\t                     Description\n",
    "#                DEBUG\t             10\t                Detailed info, used for debugging. Shows how things are working internally.\n",
    "#                INFO\t             20\t                General info about program execution—like status updates.\n",
    "#              WARNING\t             30\t                Indicates something unexpected, but not an error.\n",
    "#               ERROR\t             40\t                A serious issue occurred, the program may not behave as expected.\n",
    "#             CRITICAL\t             50\t                A very serious error—like a system failure. Immediate attention needed."
   ]
  },
  {
   "cell_type": "code",
   "execution_count": null,
   "id": "1b991a7b-84e7-4591-b843-7972b5de8f32",
   "metadata": {},
   "outputs": [],
   "source": [
    "# 18. What is the difference between os.fork() and multiprocessing in Python?\n",
    "\n",
    "# Ans - Both os.fork() and the multiprocessing module in Python are used to create new processes, but they differ in how they work, their portability,\n",
    "#       and ease of use.\n",
    "\n",
    "#       An os.fork() is a low-level system call that creates a child process by duplicating the current process.It has some limitation\n",
    "#       as it is not available on Windows and for this manual setup required (e.g., no shared memory, no automatic process management).\n",
    "\n",
    "#       multiprocessing Module is a high-level, cross-platform module for creating and managing independent processes which Handles communication, \n",
    "#       synchronization, and shared data between processes.It has advantages as it Works on both Windows and Unix.It has cleaner syntax and better error\n",
    "#       handling includes utilities like Queue, Pipe, Value, Pool, etc."
   ]
  },
  {
   "cell_type": "code",
   "execution_count": null,
   "id": "c440b8f5-a445-440b-96a1-dfae65132a31",
   "metadata": {},
   "outputs": [],
   "source": [
    "# 19. What is the importance of closing a file in Python?\n",
    "\n",
    "# Ans - When you're working with files in Python using open(), you're interacting with external resources (like your hard drive).Closing the file \n",
    "#       ensures that Files use system resources (like file handles) and not closing them can cause a leak, especially if anyone opens many files.When \n",
    "#       writing to a file, Python may buffer the output (i.e., keep it in memory before writing it to disk).file.close() flushes that buffer , ensuring\n",
    "#       all data is saved.Closing a file avoids File Corruption If a file isn't properly closed, especially during a write, it could result in corrupted\n",
    "#       or incomplete files."
   ]
  },
  {
   "cell_type": "code",
   "execution_count": null,
   "id": "bbe660c0-9cab-4a32-9d1b-a5d723bf7a7d",
   "metadata": {},
   "outputs": [],
   "source": [
    "# 20. What is the difference between file.read() and file.readline() in Python?\n",
    "\n",
    "# Ans - Both file.read() and file.readline() are used to read from files in Python, but they behave quite differently depending on how much data we want\n",
    "#       to read.file.read() reads the entire file content (or up to a specified number of characters).If you pass a number (e.g., f.read(10)), it reads \n",
    "#       that many characters.file.readline() reads one line at a time, including the newline character \\n.It is useful for reading large files line by \n",
    "#       line to save memory."
   ]
  },
  {
   "cell_type": "code",
   "execution_count": null,
   "id": "bb5413a9-3abf-4690-9862-f725d08bafa1",
   "metadata": {},
   "outputs": [],
   "source": [
    "# 21. What is the logging module in Python used for?\n",
    "\n",
    "# Ans - The logging module in Python is used for recording messages that describe what's happening in your program. It’s like a black box for your \n",
    "#       code—helpful for debugging, monitoring, and troubleshooting.  "
   ]
  },
  {
   "cell_type": "code",
   "execution_count": null,
   "id": "22cc66a4-2780-48a2-a579-00a56d513d04",
   "metadata": {},
   "outputs": [],
   "source": [
    "# 22. What is the os module in Python used for in file handling?\n",
    "\n",
    "# Ans - The os module in Python is a built-in library that provides a way to interact with the operating system, especially when working with files and \n",
    "#       directories.It has multiple feautures like Create a new directory,Change the current working directory,List files and folders.It is used in \n",
    "#       deleting Files and Directories.It is also used in renaming files and getting file size."
   ]
  },
  {
   "cell_type": "code",
   "execution_count": null,
   "id": "7227beba-7797-40af-b584-20712f0f9907",
   "metadata": {},
   "outputs": [],
   "source": [
    "# 23. What are the challenges associated with memory management in Python?\n",
    "\n",
    "# Ans - Even though Python handles memory management automatically, there are still several challenges developers should be aware of to avoid memory\n",
    "#       issues or performance bottlenecks.\n",
    "\n",
    "#       Key Challenges of Memory Management in Python\n",
    "#        1. Memory Leaks\n",
    "#        2. Reference Cycles\n",
    "#        3. Large Object Retention\n",
    "#        4. Memory Fragmentation\n",
    "#        5. Multithreading and GIL\n",
    "#        6. Long-Lived Processes"
   ]
  },
  {
   "cell_type": "code",
   "execution_count": null,
   "id": "06a586c9-ddbb-475f-9fce-ae5092a40150",
   "metadata": {},
   "outputs": [],
   "source": [
    "# 24. How do you raise an exception manually in Python?\n"
   ]
  },
  {
   "cell_type": "code",
   "execution_count": null,
   "id": "963d7fc7-7430-4a41-a371-906f78be1c70",
   "metadata": {},
   "outputs": [],
   "source": [
    "# 25. Why is it important to use multithreading in certain applications?"
   ]
  },
  {
   "cell_type": "code",
   "execution_count": null,
   "id": "ea91cd83-b8ca-4a46-a6c8-385774391aed",
   "metadata": {},
   "outputs": [],
   "source": []
  },
  {
   "cell_type": "code",
   "execution_count": 7,
   "id": "f2072651-0607-400e-8f7d-bb0dc915a4e8",
   "metadata": {},
   "outputs": [],
   "source": [
    "# 1. How can you open a file for writing in Python and write a string to it.\n",
    "\n",
    "with open(\"example.txt\", \"w\") as file:\n",
    "\n",
    "\n",
    "\n",
    "    \n",
    "    file.write(\"Hello, world!\\nThis is a string written to a file.\")"
   ]
  },
  {
   "cell_type": "code",
   "execution_count": 8,
   "id": "1fd1c646-eac3-4afb-b613-75440ec1fe44",
   "metadata": {},
   "outputs": [
    {
     "name": "stdout",
     "output_type": "stream",
     "text": [
      "Hello, world!\n",
      "This is a string written to a file.\n"
     ]
    }
   ],
   "source": [
    "# 2. Write a Python program to read the contents of a file and print each line.\n",
    "\n",
    "# File name you want to read from\n",
    "filename = \"example.txt\"\n",
    "\n",
    "with open(filename, \"r\") as file:\n",
    "    for line in file:\n",
    "        print(line.strip())"
   ]
  },
  {
   "cell_type": "code",
   "execution_count": 9,
   "id": "8ecc9964-b738-4589-ae8a-97e91a2917f8",
   "metadata": {},
   "outputs": [
    {
     "name": "stdout",
     "output_type": "stream",
     "text": [
      "Hello, world!\n",
      "This is a string written to a file.\n"
     ]
    }
   ],
   "source": [
    "# 3. How would you handle a case where the file doesn't exist while trying to open it for reading.\n",
    "\n",
    "filename = \"example.txt\"\n",
    "try:\n",
    "    with open(filename, \"r\") as file:\n",
    "        for line in file:\n",
    "            print(line.strip())\n",
    "except FileNotFoundError:\n",
    "    print(f\"Error: The file '{filename}' does not exist.\")"
   ]
  },
  {
   "cell_type": "code",
   "execution_count": 10,
   "id": "ce83c3a6-8a17-4c6d-b878-95d7cd8fb871",
   "metadata": {},
   "outputs": [
    {
     "name": "stdout",
     "output_type": "stream",
     "text": [
      "Error: The file 'source.txt' was not found.\n"
     ]
    }
   ],
   "source": [
    "# 4. Write a Python script that reads from one file and writes its content to another file\n",
    "\n",
    "\n",
    "source_file = \"source.txt\"\n",
    "destination_file = \"copy.txt\"\n",
    "\n",
    "try:\n",
    "    \n",
    "    with open(source_file, \"r\") as src:\n",
    "       \n",
    "        with open(destination_file, \"w\") as dest:\n",
    "            \n",
    "            for line in src:\n",
    "                dest.write(line)\n",
    "    print(f\"Content copied from '{source_file}' to '{destination_file}' successfully.\")\n",
    "\n",
    "except FileNotFoundError:\n",
    "    print(f\"Error: The file '{source_file}' was not found.\")\n",
    "except Exception as e:\n",
    "    print(f\"An unexpected error occurred: {e}\")"
   ]
  },
  {
   "cell_type": "code",
   "execution_count": 11,
   "id": "404e9271-3515-4113-9078-ba39fc1a1b3a",
   "metadata": {},
   "outputs": [
    {
     "name": "stdin",
     "output_type": "stream",
     "text": [
      "Enter the numerator: 5\n",
      "Enter the denominator: 55\n"
     ]
    },
    {
     "name": "stdout",
     "output_type": "stream",
     "text": [
      "Result: 0\n"
     ]
    }
   ],
   "source": [
    "# 5. How would you catch and handle division by zero error in Python\n",
    "\n",
    "try:\n",
    "    a = int(input(\"Enter the numerator:\"))\n",
    "    b = int(input(\"Enter the denominator:\"))\n",
    "    result = int(a / b)\n",
    "    print(f\"Result: {result}\")\n",
    "except ZeroDivisionError:\n",
    "    print(\"Error: Cannot divide by zero!\")"
   ]
  },
  {
   "cell_type": "code",
   "execution_count": 13,
   "id": "782e5145-969f-4712-9ddb-549b3a31ebd6",
   "metadata": {},
   "outputs": [
    {
     "name": "stdin",
     "output_type": "stream",
     "text": [
      "Enter the numerator: 5\n",
      "Enter the denominator: 0\n"
     ]
    },
    {
     "name": "stdout",
     "output_type": "stream",
     "text": [
      "An error occurred. Check 'error_log.txt' for details.\n"
     ]
    }
   ],
   "source": [
    "# 6. Write a Python program that logs an error message to a log file when a division by zero exception occurs.\n",
    "\n",
    "import logging\n",
    "\n",
    "logging.basicConfig(\n",
    "    filename=\"error_log.txt\",\n",
    "    level=logging.ERROR,\n",
    "    format=\"%(asctime)s - %(levelname)s - %(message)s\"\n",
    ")\n",
    "\n",
    "try:\n",
    "     a = int(input(\"Enter the numerator:\"))\n",
    "     b = int(input(\"Enter the denominator:\"))\n",
    "     result = int(a / b)\n",
    "\n",
    "except ZeroDivisionError as e:\n",
    "    logging.error(\"Attempted to divide by zero: %s\", e)\n",
    "    print(\"An error occurred. Check 'error_log.txt' for details.\")"
   ]
  },
  {
   "cell_type": "code",
   "execution_count": 19,
   "id": "100ed7c5-724e-4534-89ff-0a2e0f0db6d7",
   "metadata": {},
   "outputs": [
    {
     "ename": "NameError",
     "evalue": "name 'ing' is not defined",
     "output_type": "error",
     "traceback": [
      "\u001b[31m---------------------------------------------------------------------------\u001b[39m",
      "\u001b[31mNameError\u001b[39m                                 Traceback (most recent call last)",
      "\u001b[36mCell\u001b[39m\u001b[36m \u001b[39m\u001b[32mIn[19]\u001b[39m\u001b[32m, line 18\u001b[39m\n\u001b[32m     16\u001b[39m logging.error(\u001b[33m\"\u001b[39m\u001b[33mThis is an ERROR message.\u001b[39m\u001b[33m\"\u001b[39m)\n\u001b[32m     17\u001b[39m logging.critical(\u001b[33m\"\u001b[39m\u001b[33mThis is a CRITICAL message.\u001b[39m\u001b[33m\"\u001b[39m)\n\u001b[32m---> \u001b[39m\u001b[32m18\u001b[39m \u001b[38;5;28mprint\u001b[39m(\u001b[43ming\u001b[49m.debug)\n",
      "\u001b[31mNameError\u001b[39m: name 'ing' is not defined"
     ]
    }
   ],
   "source": [
    "# 7. How do you log information at different levels (INFO, ERROR, WARNING) in Python using the logging module\n",
    "\n",
    "import logging\n",
    "\n",
    "logging.basicConfig(\n",
    "    level=logging.DEBUG,  \n",
    "    format='%(asctime)s - %(levelname)s - %(message)s',\n",
    "    filename='app.log',  \n",
    "    filemode='w' \n",
    ")\n",
    "\n",
    "\n",
    "logging.debug(\"This is a DEBUG message.\")\n",
    "logging.info(\"This is an INFO message.\")\n",
    "logging.warning(\"This is a WARNING message.\")\n",
    "logging.error(\"This is an ERROR message.\")\n",
    "logging.critical(\"This is a CRITICAL message.\")\n",
    "print(ing.debug)"
   ]
  },
  {
   "cell_type": "code",
   "execution_count": 14,
   "id": "63a81e37-0395-4a13-a771-44a58756f842",
   "metadata": {},
   "outputs": [
    {
     "name": "stdin",
     "output_type": "stream",
     "text": [
      "Enter the filename to open:  20\n"
     ]
    },
    {
     "name": "stdout",
     "output_type": "stream",
     "text": [
      "Error: The file '20' was not found.\n"
     ]
    }
   ],
   "source": [
    "# 8. Write a program to handle a file opening error using exception handling\n",
    "\n",
    "def open_file(filename):\n",
    "    try:\n",
    "        with open(filename, 'r') as file:\n",
    "            content = file.read()\n",
    "            print(\"File content:\\n\", content)\n",
    "    except FileNotFoundError:\n",
    "        print(f\"Error: The file '{filename}' was not found.\")\n",
    "    except IOError:\n",
    "        print(f\"Error: An I/O error occurred while opening '{filename}'.\")\n",
    "\n",
    "filename = input(\"Enter the filename to open: \")\n",
    "open_file(filename)"
   ]
  },
  {
   "cell_type": "code",
   "execution_count": 15,
   "id": "bc53fde9-1e39-42d3-92e0-21c17ca956f1",
   "metadata": {},
   "outputs": [
    {
     "name": "stdin",
     "output_type": "stream",
     "text": [
      "Enter the filename:  1\n"
     ]
    },
    {
     "name": "stdout",
     "output_type": "stream",
     "text": [
      "Error: The file '1' was not found.\n",
      "Lines in the file:\n"
     ]
    }
   ],
   "source": [
    "# 9. How can you read a file line by line and store its content in a list in Python\n",
    "\n",
    "def read_file_to_list(filename):\n",
    "    try:\n",
    "        with open(filename, 'r') as file:\n",
    "            lines = [line.strip() for line in file] \n",
    "        return lines\n",
    "    except FileNotFoundError:\n",
    "        print(f\"Error: The file '{filename}' was not found.\")\n",
    "        return []\n",
    "\n",
    "filename = input(\"Enter the filename: \")\n",
    "lines = read_file_to_list(filename)\n",
    "\n",
    "print(\"Lines in the file:\")\n",
    "for i, line in enumerate(lines, 1):\n",
    "    print(f\"{i}: {line}\")"
   ]
  },
  {
   "cell_type": "code",
   "execution_count": 17,
   "id": "fc9ce981-9100-4f18-9bcf-97f04ec7c94e",
   "metadata": {},
   "outputs": [
    {
     "name": "stdin",
     "output_type": "stream",
     "text": [
      "Enter the filename:  100\n",
      "Enter the text to append:  1\n"
     ]
    },
    {
     "name": "stdout",
     "output_type": "stream",
     "text": [
      "Data appended successfully.\n"
     ]
    }
   ],
   "source": [
    "# 10. How can you append data to an existing file in Python\n",
    "\n",
    "def append_to_file(filename, data):\n",
    "    try:\n",
    "        with open(filename, 'a') as file:\n",
    "            file.write(data + '\\n')\n",
    "        print(\"Data appended successfully.\")\n",
    "    except IOError:\n",
    "        print(f\"Error: Could not write to file '{filename}'.\")\n",
    "\n",
    "filename = input(\"Enter the filename: \")\n",
    "data = input(\"Enter the text to append: \")\n",
    "append_to_file(filename, data)"
   ]
  },
  {
   "cell_type": "code",
   "execution_count": 21,
   "id": "fcdb1c2b-f63d-491d-b949-cdfb15f2b134",
   "metadata": {},
   "outputs": [
    {
     "name": "stdout",
     "output_type": "stream",
     "text": [
      "Error: The key ''country'' does not exist in the dictionary.\n"
     ]
    }
   ],
   "source": [
    "# 11. Write a Python program that uses a try-except block to handle an error when attempting to access a dictionary key that doesn't exist\n",
    "\n",
    "person = {\n",
    "    \"name\": \"yugal\",\n",
    "    \"age\": 25,\n",
    "    \"city\": \"Raipur\"\n",
    "}\n",
    "\n",
    "try:\n",
    "  \n",
    "    country = person[\"country\"]\n",
    "    print(f\"Country: {country}\")\n",
    "except KeyError as e:\n",
    "    print(f\"Error: The key '{e}' does not exist in the dictionary.\")"
   ]
  },
  {
   "cell_type": "code",
   "execution_count": 22,
   "id": "b7ece349-1c48-42f6-8387-8ea063bc4132",
   "metadata": {},
   "outputs": [
    {
     "name": "stdin",
     "output_type": "stream",
     "text": [
      "Enter the first number:  0\n",
      "Enter the second number:  15\n"
     ]
    },
    {
     "name": "stdout",
     "output_type": "stream",
     "text": [
      "The result of division is: 0.0\n"
     ]
    }
   ],
   "source": [
    "# 12. Write a program that demonstrates using multiple except blocks to handle different types of exceptions\n",
    "\n",
    "\n",
    "try:\n",
    "\n",
    "    num1 = int(input(\"Enter the first number: \"))\n",
    "    num2 = int(input(\"Enter the second number: \"))\n",
    "\n",
    "    result = num1 / num2\n",
    "    print(f\"The result of division is: {result}\")\n",
    "\n",
    "except ValueError:\n",
    "    print(\"Error: Please enter valid integers.\")\n",
    "\n",
    "except ZeroDivisionError:\n",
    "    print(\"Error: Division by zero is not allowed.\")\n",
    "\n",
    "except Exception as e:\n",
    "    print(f\"An unexpected error occurred: {e}\")"
   ]
  },
  {
   "cell_type": "code",
   "execution_count": 23,
   "id": "0fa542af-3b47-4446-bee7-189e1c145591",
   "metadata": {},
   "outputs": [
    {
     "name": "stdout",
     "output_type": "stream",
     "text": [
      "File content:\n",
      " Hello, world!\n",
      "This is a string written to a file.\n"
     ]
    }
   ],
   "source": [
    "# 13. How would you check if a file exists before attempting to read it in Python?\n",
    "\n",
    "from pathlib import Path\n",
    "\n",
    "file_path = Path(\"example.txt\")\n",
    "\n",
    "if file_path.exists():\n",
    "    with open(file_path, \"r\") as file:\n",
    "        content = file.read()\n",
    "        print(\"File content:\\n\", content)\n",
    "else:\n",
    "    print(\"The file does not exist.\")"
   ]
  },
  {
   "cell_type": "code",
   "execution_count": 26,
   "id": "3cfb475a-82f1-4bba-871a-13fd8c9b102b",
   "metadata": {},
   "outputs": [
    {
     "name": "stdout",
     "output_type": "stream",
     "text": [
      "<built-in function all>\n"
     ]
    }
   ],
   "source": [
    "# 14. Write a program that uses the logging module to log both informational and error messages\n",
    "\n",
    "import logging\n",
    "\n",
    "logging.basicConfig(\n",
    "    level=logging.DEBUG,\n",
    "    format='%(asctime)s - %(levelname)s - %(message)s',\n",
    "    filename='app.log',  \n",
    "    filemode='w'  \n",
    ")\n",
    "\n",
    "def divide(a, b):\n",
    "    logging.info(f\"Attempting to divide {a} by {b}\")\n",
    "    try:\n",
    "        result = a / b\n",
    "        logging.info(f\"Result: {result}\")\n",
    "        return result\n",
    "    except ZeroDivisionError:\n",
    "        logging.error(\"Division by zero error\")\n",
    "    except Exception as e:\n",
    "        logging.error(f\"An unexpected error occurred: {e}\")\n",
    "\n",
    "divide(10, 2)\n",
    "divide(5, 0)\n",
    "divide(\"ten\", 2)\n",
    "print(all)"
   ]
  },
  {
   "cell_type": "code",
   "execution_count": 27,
   "id": "6d6d302b-32d1-460b-98c0-09d40cf7327e",
   "metadata": {},
   "outputs": [
    {
     "name": "stdout",
     "output_type": "stream",
     "text": [
      "File content:\n",
      "\n",
      "Hello, world!\n",
      "This is a string written to a file.\n"
     ]
    }
   ],
   "source": [
    "# 15. Write a Python program that prints the content of a file and handles the case when the file is empty.\n",
    "\n",
    "from pathlib import Path\n",
    "\n",
    "file_path = Path(\"example.txt\")\n",
    "\n",
    "if file_path.exists():\n",
    "    try:\n",
    "        content = file_path.read_text().strip()\n",
    "        if content:\n",
    "            print(\"File content:\\n\")\n",
    "            print(content)\n",
    "        else:\n",
    "            print(\"The file exists but is empty.\")\n",
    "    except Exception as e:\n",
    "        print(f\"An error occurred while reading the file: {e}\")\n",
    "else:\n",
    "    print(\"The file does not exist.\")"
   ]
  },
  {
   "cell_type": "code",
   "execution_count": 28,
   "id": "3e05b750-2721-419a-897e-142b91c3eb9e",
   "metadata": {},
   "outputs": [
    {
     "ename": "ModuleNotFoundError",
     "evalue": "No module named 'memory_profiler'",
     "output_type": "error",
     "traceback": [
      "\u001b[31m---------------------------------------------------------------------------\u001b[39m",
      "\u001b[31mModuleNotFoundError\u001b[39m                       Traceback (most recent call last)",
      "\u001b[36mCell\u001b[39m\u001b[36m \u001b[39m\u001b[32mIn[28]\u001b[39m\u001b[32m, line 3\u001b[39m\n\u001b[32m      1\u001b[39m \u001b[38;5;66;03m# 16. Demonstrate how to use memory profiling to check the memory usage of a small program.\u001b[39;00m\n\u001b[32m----> \u001b[39m\u001b[32m3\u001b[39m \u001b[38;5;28;01mfrom\u001b[39;00m\u001b[38;5;250m \u001b[39m\u001b[34;01mmemory_profiler\u001b[39;00m\u001b[38;5;250m \u001b[39m\u001b[38;5;28;01mimport\u001b[39;00m profile\n\u001b[32m      5\u001b[39m \u001b[38;5;129m@profile\u001b[39m\n\u001b[32m      6\u001b[39m \u001b[38;5;28;01mdef\u001b[39;00m\u001b[38;5;250m \u001b[39m\u001b[34mcreate_large_list\u001b[39m():\n\u001b[32m      7\u001b[39m     large_list = [x * \u001b[32m2\u001b[39m \u001b[38;5;28;01mfor\u001b[39;00m x \u001b[38;5;129;01min\u001b[39;00m \u001b[38;5;28mrange\u001b[39m(\u001b[32m1000000\u001b[39m)]\n",
      "\u001b[31mModuleNotFoundError\u001b[39m: No module named 'memory_profiler'"
     ]
    }
   ],
   "source": [
    "# 16. Demonstrate how to use memory profiling to check the memory usage of a small program.\n",
    "\n",
    "from memory_profiler import profile\n",
    "\n",
    "@profile\n",
    "def create_large_list():\n",
    "    large_list = [x * 2 for x in range(1000000)]\n",
    "    return sum(large_list)\n",
    "\n",
    "if __name__ == \"__main__\":\n",
    "    result = create_large_list()\n",
    "    print(f\"Result: {result}\")"
   ]
  },
  {
   "cell_type": "code",
   "execution_count": 29,
   "id": "3afe487e-b3c3-4d13-964b-0ec1506e0bb0",
   "metadata": {},
   "outputs": [
    {
     "name": "stdout",
     "output_type": "stream",
     "text": [
      "Successfully wrote 9 numbers to numbers.txt\n"
     ]
    }
   ],
   "source": [
    "# 17. Write a Python program to create and write a list of numbers to a file, one number per line\n",
    "\n",
    "numbers = list(range(1, 10))  \n",
    "filename = \"numbers.txt\"\n",
    "\n",
    "try:\n",
    "    with open(filename, \"w\") as file:\n",
    "        for number in numbers:\n",
    "            file.write(f\"{number}\\n\")\n",
    "    print(f\"Successfully wrote {len(numbers)} numbers to {filename}\")\n",
    "except Exception as e:\n",
    "    print(f\"An error occurred: {e}\")"
   ]
  },
  {
   "cell_type": "code",
   "execution_count": 31,
   "id": "1ab19416-b16d-4d3a-af2d-fd1530520e17",
   "metadata": {},
   "outputs": [
    {
     "name": "stderr",
     "output_type": "stream",
     "text": [
      "--- Logging error ---\n",
      "Traceback (most recent call last):\n",
      "  File \"C:\\Users\\yugal\\AppData\\Local\\Programs\\Python\\Python313\\Lib\\logging\\handlers.py\", line 80, in emit\n",
      "    self.doRollover()\n",
      "    ~~~~~~~~~~~~~~~^^\n",
      "  File \"C:\\Users\\yugal\\AppData\\Local\\Programs\\Python\\Python313\\Lib\\logging\\handlers.py\", line 185, in doRollover\n",
      "    self.rotate(self.baseFilename, dfn)\n",
      "    ~~~~~~~~~~~^^^^^^^^^^^^^^^^^^^^^^^^\n",
      "  File \"C:\\Users\\yugal\\AppData\\Local\\Programs\\Python\\Python313\\Lib\\logging\\handlers.py\", line 121, in rotate\n",
      "    os.rename(source, dest)\n",
      "    ~~~~~~~~~^^^^^^^^^^^^^^\n",
      "PermissionError: [WinError 32] The process cannot access the file because it is being used by another process: 'C:\\\\Users\\\\yugal\\\\app.log' -> 'C:\\\\Users\\\\yugal\\\\app.log.1'\n",
      "Call stack:\n",
      "  File \"<frozen runpy>\", line 198, in _run_module_as_main\n",
      "  File \"<frozen runpy>\", line 88, in _run_code\n",
      "  File \"C:\\Users\\yugal\\AppData\\Local\\Programs\\Python\\Python313\\Lib\\site-packages\\ipykernel_launcher.py\", line 18, in <module>\n",
      "    app.launch_new_instance()\n",
      "  File \"C:\\Users\\yugal\\AppData\\Local\\Programs\\Python\\Python313\\Lib\\site-packages\\traitlets\\config\\application.py\", line 1075, in launch_instance\n",
      "    app.start()\n",
      "  File \"C:\\Users\\yugal\\AppData\\Local\\Programs\\Python\\Python313\\Lib\\site-packages\\ipykernel\\kernelapp.py\", line 739, in start\n",
      "    self.io_loop.start()\n",
      "  File \"C:\\Users\\yugal\\AppData\\Local\\Programs\\Python\\Python313\\Lib\\site-packages\\tornado\\platform\\asyncio.py\", line 205, in start\n",
      "    self.asyncio_loop.run_forever()\n",
      "  File \"C:\\Users\\yugal\\AppData\\Local\\Programs\\Python\\Python313\\Lib\\asyncio\\base_events.py\", line 683, in run_forever\n",
      "    self._run_once()\n",
      "  File \"C:\\Users\\yugal\\AppData\\Local\\Programs\\Python\\Python313\\Lib\\asyncio\\base_events.py\", line 2040, in _run_once\n",
      "    handle._run()\n",
      "  File \"C:\\Users\\yugal\\AppData\\Local\\Programs\\Python\\Python313\\Lib\\asyncio\\events.py\", line 89, in _run\n",
      "    self._context.run(self._callback, *self._args)\n",
      "  File \"C:\\Users\\yugal\\AppData\\Local\\Programs\\Python\\Python313\\Lib\\site-packages\\ipykernel\\kernelbase.py\", line 545, in dispatch_queue\n",
      "    await self.process_one()\n",
      "  File \"C:\\Users\\yugal\\AppData\\Local\\Programs\\Python\\Python313\\Lib\\site-packages\\ipykernel\\kernelbase.py\", line 534, in process_one\n",
      "    await dispatch(*args)\n",
      "  File \"C:\\Users\\yugal\\AppData\\Local\\Programs\\Python\\Python313\\Lib\\site-packages\\ipykernel\\kernelbase.py\", line 437, in dispatch_shell\n",
      "    await result\n",
      "  File \"C:\\Users\\yugal\\AppData\\Local\\Programs\\Python\\Python313\\Lib\\site-packages\\ipykernel\\ipkernel.py\", line 362, in execute_request\n",
      "    await super().execute_request(stream, ident, parent)\n",
      "  File \"C:\\Users\\yugal\\AppData\\Local\\Programs\\Python\\Python313\\Lib\\site-packages\\ipykernel\\kernelbase.py\", line 778, in execute_request\n",
      "    reply_content = await reply_content\n",
      "  File \"C:\\Users\\yugal\\AppData\\Local\\Programs\\Python\\Python313\\Lib\\site-packages\\ipykernel\\ipkernel.py\", line 449, in do_execute\n",
      "    res = shell.run_cell(\n",
      "  File \"C:\\Users\\yugal\\AppData\\Local\\Programs\\Python\\Python313\\Lib\\site-packages\\ipykernel\\zmqshell.py\", line 549, in run_cell\n",
      "    return super().run_cell(*args, **kwargs)\n",
      "  File \"C:\\Users\\yugal\\AppData\\Local\\Programs\\Python\\Python313\\Lib\\site-packages\\IPython\\core\\interactiveshell.py\", line 3044, in run_cell\n",
      "    result = self._run_cell(\n",
      "  File \"C:\\Users\\yugal\\AppData\\Local\\Programs\\Python\\Python313\\Lib\\site-packages\\IPython\\core\\interactiveshell.py\", line 3099, in _run_cell\n",
      "    result = runner(coro)\n",
      "  File \"C:\\Users\\yugal\\AppData\\Local\\Programs\\Python\\Python313\\Lib\\site-packages\\IPython\\core\\async_helpers.py\", line 128, in _pseudo_sync_runner\n",
      "    coro.send(None)\n",
      "  File \"C:\\Users\\yugal\\AppData\\Local\\Programs\\Python\\Python313\\Lib\\site-packages\\IPython\\core\\interactiveshell.py\", line 3303, in run_cell_async\n",
      "    has_raised = await self.run_ast_nodes(code_ast.body, cell_name,\n",
      "  File \"C:\\Users\\yugal\\AppData\\Local\\Programs\\Python\\Python313\\Lib\\site-packages\\IPython\\core\\interactiveshell.py\", line 3486, in run_ast_nodes\n",
      "    if await self.run_code(code, result, async_=asy):\n",
      "  File \"C:\\Users\\yugal\\AppData\\Local\\Programs\\Python\\Python313\\Lib\\site-packages\\IPython\\core\\interactiveshell.py\", line 3546, in run_code\n",
      "    exec(code_obj, self.user_global_ns, self.user_ns)\n",
      "  File \"C:\\Users\\yugal\\AppData\\Local\\Temp\\ipykernel_20252\\817433947.py\", line 26, in <module>\n",
      "    logger.info(f\"This is log message number {i}\")\n",
      "Message: 'This is log message number 2601'\n",
      "Arguments: ()\n"
     ]
    }
   ],
   "source": [
    "# 18. How would you implement a basic logging setup that logs to a file with rotation after 1MB\n",
    "\n",
    "import logging\n",
    "from logging.handlers import RotatingFileHandler\n",
    "\n",
    "\n",
    "logger = logging.getLogger(\"MyLogger\")\n",
    "logger.setLevel(logging.INFO)\n",
    "\n",
    "\n",
    "handler = RotatingFileHandler(\n",
    "    \"app.log\",           \n",
    "    maxBytes=1_000_000,  \n",
    "    backupCount=3        \n",
    ")\n",
    "\n",
    "\n",
    "formatter = logging.Formatter('%(asctime)s - %(levelname)s - %(message)s')\n",
    "handler.setFormatter(formatter)\n",
    "\n",
    "\n",
    "logger.addHandler(handler)\n",
    "\n",
    "\n",
    "for i in range(10000):\n",
    "    logger.info(f\"This is log message number {i}\")"
   ]
  },
  {
   "cell_type": "code",
   "execution_count": 32,
   "id": "ba90cc91-2e4d-4946-8f0e-68fee9cb8ea6",
   "metadata": {},
   "outputs": [
    {
     "name": "stdout",
     "output_type": "stream",
     "text": [
      "Error: Tried to access an index that doesn't exist in the list.\n"
     ]
    }
   ],
   "source": [
    "# 19. Write a program that handles both IndexError and KeyError using a try-except block\n",
    "\n",
    "\n",
    "my_list = [10, 20, 30]\n",
    "my_dict = {\"name\": \"Sujan\", \"age\": 35}\n",
    "\n",
    "try:\n",
    "   \n",
    "    print(\"List item:\", my_list[5])\n",
    "    print(\"City:\", my_dict[\"city\"])\n",
    "\n",
    "except IndexError:\n",
    "    print(\"Error: Tried to access an index that doesn't exist in the list.\")\n",
    "\n",
    "except KeyError:\n",
    "    print(\"Error: Tried to access a key that doesn't exist in the dictionary.\")"
   ]
  },
  {
   "cell_type": "code",
   "execution_count": 33,
   "id": "c0f4c97c-8bb8-44ce-ba13-1674e80713f7",
   "metadata": {},
   "outputs": [
    {
     "name": "stdout",
     "output_type": "stream",
     "text": [
      "File content:\n",
      "\n",
      "Hello, world!\n",
      "This is a string written to a file.\n"
     ]
    }
   ],
   "source": [
    "# 20. How would you open a file and read its contents using a context manager in Python\n",
    "\n",
    "\n",
    "filename = \"example.txt\"\n",
    "\n",
    "try:\n",
    "    with open(filename, \"r\") as file:\n",
    "        content = file.read()\n",
    "        print(\"File content:\\n\")\n",
    "        print(content)\n",
    "except FileNotFoundError:\n",
    "    print(f\"Error: '{filename}' does not exist.\")\n",
    "except Exception as e:\n",
    "    print(f\"An error occurred: {e}\")"
   ]
  },
  {
   "cell_type": "code",
   "execution_count": 34,
   "id": "2a320bdf-48a5-4f43-ae5e-c858843eb768",
   "metadata": {},
   "outputs": [
    {
     "name": "stdin",
     "output_type": "stream",
     "text": [
      "Enter the file name:  10\n",
      "Enter the word to search:  10\n"
     ]
    },
    {
     "name": "stdout",
     "output_type": "stream",
     "text": [
      "The word '10' appears 0 times in '10'.\n"
     ]
    }
   ],
   "source": [
    "# 21. Write a Python program that reads a file and prints the number of occurrences of a specific word\n",
    "\n",
    "def count_word_in_file(filename, search_word):\n",
    "    try:\n",
    "        with open(filename, \"r\") as file:\n",
    "            content = file.read().lower()\n",
    "            word_count = content.split().count(search_word.lower())\n",
    "            print(f\"The word '{search_word}' appears {word_count} times in '{filename}'.\")\n",
    "    except FileNotFoundError:\n",
    "        print(f\"Error: File '{filename}' not found.\")\n",
    "    except Exception as e:\n",
    "        print(f\"An error occurred: {e}\")\n",
    "\n",
    "file_name = input(\"Enter the file name: \")\n",
    "word_to_search = input(\"Enter the word to search: \")\n",
    "\n",
    "count_word_in_file(file_name, word_to_search)"
   ]
  },
  {
   "cell_type": "code",
   "execution_count": 35,
   "id": "7e27b26f-e61e-4ba5-9ebb-aca213f0f8c8",
   "metadata": {},
   "outputs": [
    {
     "name": "stdout",
     "output_type": "stream",
     "text": [
      "File content:\n",
      " Hello, world!\n",
      "This is a string written to a file.\n"
     ]
    }
   ],
   "source": [
    "# 22. How can you check if a file is empty before attempting to read its contents?\n",
    "\n",
    "import os\n",
    "\n",
    "file_path = \"example.txt\"\n",
    "\n",
    "if os.path.exists(file_path):\n",
    "    if os.stat(file_path).st_size == 0:\n",
    "        print(\"The file is empty.\")\n",
    "    else:\n",
    "        with open(file_path, \"r\") as file:\n",
    "            content = file.read()\n",
    "            print(\"File content:\\n\", content)\n",
    "else:\n",
    "    print(\"The file does not exist.\")"
   ]
  },
  {
   "cell_type": "code",
   "execution_count": 36,
   "id": "ee6d811d-bd35-46a6-a40e-25d397a5eee5",
   "metadata": {},
   "outputs": [
    {
     "name": "stdout",
     "output_type": "stream",
     "text": [
      "File content:\n",
      " Hello, world!\n",
      "This is a string written to a file.\n"
     ]
    }
   ],
   "source": [
    "# 23. Write a Python program that writes to a log file when an error occurs during file handling.\n",
    "\n",
    "import logging\n",
    "from pathlib import Path\n",
    "\n",
    "\n",
    "logging.basicConfig(\n",
    "    filename='error_log.log',\n",
    "    level=logging.ERROR,\n",
    "    format='%(asctime)s - %(levelname)s - %(message)s'\n",
    ")\n",
    "\n",
    "\n",
    "file_path = Path(\"example.txt\")\n",
    "\n",
    "try:\n",
    "  \n",
    "    with file_path.open(\"r\") as file:\n",
    "        content = file.read()\n",
    "        print(\"File content:\\n\", content)\n",
    "\n",
    "except FileNotFoundError:\n",
    "    logging.error(f\"File not found: {file_path}\")\n",
    "    print(\"Error: The file does not exist.\")\n",
    "\n",
    "except PermissionError:\n",
    "    logging.error(f\"Permission denied when accessing the file: {file_path}\")\n",
    "    print(\"Error: Permission denied.\")\n",
    "\n",
    "except Exception as e:\n",
    "    logging.error(f\"An unexpected error occurred while handling the file: {e}\")\n",
    "    print(\"An unexpected error occurred.\")"
   ]
  },
  {
   "cell_type": "code",
   "execution_count": null,
   "id": "b088831c-6500-45ca-987c-3b2e1b2e7c6c",
   "metadata": {},
   "outputs": [],
   "source": []
  }
 ],
 "metadata": {
  "kernelspec": {
   "display_name": "Python 3 (ipykernel)",
   "language": "python",
   "name": "python3"
  },
  "language_info": {
   "codemirror_mode": {
    "name": "ipython",
    "version": 3
   },
   "file_extension": ".py",
   "mimetype": "text/x-python",
   "name": "python",
   "nbconvert_exporter": "python",
   "pygments_lexer": "ipython3",
   "version": "3.13.2"
  }
 },
 "nbformat": 4,
 "nbformat_minor": 5
}
