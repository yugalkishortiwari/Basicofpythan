{
 "cells": [
  {
   "cell_type": "code",
   "execution_count": null,
   "id": "52aaf7c9-69ac-4ed2-ae99-ff5ef2b1130f",
   "metadata": {},
   "outputs": [],
   "source": [
    "# 1. What is a RESTful API?\n",
    "\n",
    "# Ans - A RESTful API (Representational State Transfer API) is a web service that follows the principles of REST architecture to allow systems to \n",
    "#       communicate over HTTP using standard methods like:\n",
    "\n",
    "#       A RESTful API endpoint for user data might look like:\n",
    "#       GET /users – list all users\n",
    "#       GET /users/123 – get details of user with ID 123\n",
    "#       POST /users – create a new user\n",
    "#       PUT /users/123 – update user with ID 123\n",
    "#       DELETE /users/123 – delete user with ID 123"
   ]
  },
  {
   "cell_type": "code",
   "execution_count": null,
   "id": "0832461c-5121-40a6-ab58-9edbcc4967e6",
   "metadata": {},
   "outputs": [],
   "source": [
    "# 2. Explain the concept of API specification.\n",
    "\n",
    "# Ans - The concept of an API specification refers to a detailed, structured document that defines how an Application Programming Interface (API) \n",
    "#       behaves and how clients should interact with it.It is essentially the contract between the API provider and the developers who use it.It \n",
    "#       describes available endpoints (URLs) and what each one does.It specifies HTTP methods (GET, POST, PUT, DELETE, etc.).It also Defines what \n",
    "#       parameters (query, path, headers, body) are required or optional and specifies request and response formats, including data types and example\n",
    "#       payloads.It has details error responses, including status codes and messages and also may include authentication requirements."
   ]
  },
  {
   "cell_type": "code",
   "execution_count": null,
   "id": "3af04d43-db08-4402-86f2-f49a45aef7cd",
   "metadata": {},
   "outputs": [],
   "source": [
    "# 3. What is Flask, and why is it popular for building APIs.\n",
    "\n",
    "# Ans - Flask is a micro web framework written in Python that is commonly used to build web applications and RESTful APIs. It’s called a micro framework\n",
    "#       because it provides the basic tools to get a web app running but doesn’t come with built-in tools for things like authentication, form handling,\n",
    "#       or database connections—those can be added as needed.\n",
    "\n",
    "#       Flask is popular for Building APIs because it is lightweight and minimal and quick to start and easy to use.It also has simple routing and \n",
    "#       request handling and highly customizable.Flask works well with JSON, HTTP methods, and status codes—core components of REST APIs."
   ]
  },
  {
   "cell_type": "code",
   "execution_count": null,
   "id": "9d9bf252-ca11-42af-83a7-477085279404",
   "metadata": {},
   "outputs": [],
   "source": [
    "# 4. What is routing in Flask?\n",
    "\n",
    "# Ans - Routing in Flask refers to the process of mapping URLs (routes) to Python functions. When a user accesses a specific URL in a web browser or\n",
    "#       through an API client, Flask uses routing to determine which function should handle that request.In Flask, one can define routes using the \n",
    "#       @app.route() decorator. This tells flask what URL should trigger the function and What HTTP methods the route should accept (GET, POST, etc.)\n"
   ]
  },
  {
   "cell_type": "code",
   "execution_count": null,
   "id": "937bfc1c-a4a4-4202-9e37-079b2ddce253",
   "metadata": {},
   "outputs": [],
   "source": [
    "# 5. How do you create a simple Flask application?\n",
    "\n",
    "# Ans - Creating a simple Flask application involves just a few steps. Flask is a lightweight web framework that's great for building small to medium \n",
    "#        web apps and APIs.\n",
    "\n",
    "#        1. Install Flask\n",
    "#        2. Create the Project File\n",
    "#        3. Run the App"
   ]
  },
  {
   "cell_type": "code",
   "execution_count": null,
   "id": "b8fd7085-2325-42b4-8680-f1083d2740ae",
   "metadata": {},
   "outputs": [],
   "source": [
    "# 6. What are HTTP methods used in RESTful APIs?\n",
    "\n",
    "# Ans - In RESTful APIs, HTTP methods define the actions to be performed on resources (data entities like users, products, posts, etc.). Each method has\n",
    "#       a specific purpose and is tied to CRUD operations (Create, Read, Update, Delete).\n",
    "\n",
    "#       HTTP Methods in RESTful APIs:\n",
    "\n",
    "#    HTTP Method\t           CRUD Action\t                          Purpose\t                                          Example\n",
    "#      GET\t                     Read\t                      Retrieve data from the server\t                      GET /users – List all users\n",
    "#     POST\t                    Create\t                      Submit new data to the server\t                      POST /users – Add a user\n",
    "#      PUT\t                    Update\t                      Replace an existing resource\t                     PUT /users/123 – Replace user 123\n",
    "#     PATCH\t                  Update (partial)\t          Partially update an existing resource\t             PATCH /users/123 – Update part of user 123\n",
    "#    DELETE\t                    Delete\t                      Remove a resource from the server\t                 DELETE /users/123 – Delete user 123"
   ]
  },
  {
   "cell_type": "code",
   "execution_count": null,
   "id": "ec54bc64-4dcb-497e-be55-a26288b2e19f",
   "metadata": {},
   "outputs": [],
   "source": [
    "# 7. What is the purpose of the @app.route() decorator in Flask?\n",
    "\n",
    "# Ans - The @app.route() decorator in Flask is used to map a URL path to a Python function. This is how Flask handles routing—deciding what code to run \n",
    "#       when someone visits a specific URL on your web application or API.It tells Flask: “When a user visits this URL, run this function.”The function \n",
    "#       it decorates is called a view function."
   ]
  },
  {
   "cell_type": "code",
   "execution_count": null,
   "id": "0dbc17b0-0bc6-4dd8-9aef-c6e3dad12efa",
   "metadata": {},
   "outputs": [],
   "source": [
    "# 8. What is the difference between GET and POST HTTP methods?\n",
    "\n",
    "# Ans - The GET and POST HTTP methods are both used in RESTful APIs but serve different purposes and behave differently.\n",
    "\n",
    "#       Key Differences Between GET and POST:\n",
    "\n",
    "#        Feature\t                                    GET\t                                                        POST\n",
    "#        Purpose\t                               Retrieve data\t                               Send data to create or update something\n",
    "#     Data Location\t                    Appended to the URL as query parameters\t                   Sent in the body of the request\n",
    "#      Visibility\t                    Data is visible in the URL (not secure)\t                   Data is hidden in the request body\n",
    "#       Use Case\t                     Read-only operations (no side effects)\t                   Data submission like forms, creating new entries\n",
    "#       Caching\t                         Can be cached by browsers and servers\t                   Not usually cached\n",
    "#     Idempotence\t               Yes – calling it multiple times has the same effect\t           No – may create multiple resources if repeated\n",
    "#     Bookmarkable\t                  Yes – URLs with parameters can be saved\t                   No – request body is not part of the URL"
   ]
  },
  {
   "cell_type": "code",
   "execution_count": null,
   "id": "cdf323ae-57af-4314-a951-a1cd36d472b3",
   "metadata": {},
   "outputs": [],
   "source": [
    "# 9. How do you handle errors in Flask APIs?\n",
    "\n",
    "# Ans - In Flask APIs, handling errors properly is essential to return clear, consistent responses to clients when something goes wrong. Flask provides \n",
    "#       multiple ways to handle errors gracefully.\n",
    "\n",
    "#      1. Using @app.errorhandler() Decorator one can catch specific HTTP error codes like 404 (Not Found) or 500 (Server Error)\n",
    "#      2. One can manually trigger an error using abort()\n",
    "#      3. One can process input (like JSON or query parameters), validate it and return helpful errors:"
   ]
  },
  {
   "cell_type": "code",
   "execution_count": 3,
   "id": "a01e0f86-69f1-4a9d-b668-cb86c35dded7",
   "metadata": {},
   "outputs": [],
   "source": [
    "# 10. How do you connect Flask to a SQL database?\n",
    "\n",
    "# Ans - To connect Flask to a SQL database, you typically use an ORM (Object Relational Mapper) like SQLAlchemy, or a lightweight extension like \n",
    "#       Flask-SQLAlchemy for better integration. Here's a basic step-by-step guide using Flask-SQLAlchemy:\n",
    "\n",
    "#       1.!pip install Flask Flask-SQLAlchemy\n",
    "#       2. Set Up the Flask App\n",
    "#       3. Define the Database Models\n",
    "#       4. Create the Database\n",
    "#       5. Use the Database in Your Routes"
   ]
  },
  {
   "cell_type": "code",
   "execution_count": null,
   "id": "27fd8655-7715-4fda-9bca-86af8b83de52",
   "metadata": {},
   "outputs": [],
   "source": [
    "# 11. What is the role of Flask-SQLAlchemy?\n",
    "\n",
    "# Ans - The role of Flask-SQLAlchemy is to integrate SQLAlchemy (a powerful and flexible Object Relational Mapper, or ORM) seamlessly with Flask, making\n",
    "#       it easier to manage database connections, models, and queries in a Flask application.\n",
    "\n",
    "#       Flask-SQLAlchemy simplifies Configuration and manages the SQLAlchemy Instance.It also adds Flask-Friendly features and keeps Power of SQLAlchemy"
   ]
  },
  {
   "cell_type": "code",
   "execution_count": null,
   "id": "07207b6b-b872-4841-bf9b-a17a91a22623",
   "metadata": {},
   "outputs": [],
   "source": [
    "# 12. What are Flask blueprints,and how are they useful?\n",
    "\n",
    "# Ans - Flask Blueprints are a way to organize a Flask application into modular, reusable components. Think of them as mini-applications that can define\n",
    "#       routes, templates, static files, and more—then be registered on the main Flask app.\n",
    "\n",
    "#       Blueprints to be used for\n",
    "\n",
    "#       1. Modularity\n",
    "#       One can split your app into components like auth, admin, blog, etc., each with its own routes and logic.\n",
    "\n",
    "#       2. Reusability\n",
    "#       Blueprints can be packaged and reused across multiple applications (e.g., a shared authentication module).\n",
    "\n",
    "#       3. Clean Project Structure\n",
    "#       Makes large apps easier to manage by separating concerns—routes, models, and views can be grouped logically.\n",
    "\n",
    "#       4. Scalability\n",
    "#       Helps teams work on different features in isolation and combine them in the main app without conflicts."
   ]
  },
  {
   "cell_type": "code",
   "execution_count": null,
   "id": "5e91d632-8916-4ccb-a3c5-be436f93f09a",
   "metadata": {},
   "outputs": [],
   "source": [
    "# 14 . What is the purpose of Flask's request object?\n",
    "\n",
    "# Ans - The purpose of Flask's request object is to give you access to data sent by the client (e.g., a browser or API client) during an HTTP request. \n",
    "#       It allows your Flask app to read things like form data, query parameters, headers, JSON payloads, and more.The request object is your gateway to\n",
    "#       anything the client sends to the server. It's essential for handling form submissions, API requests, file uploads, and more.\n",
    "\n",
    "#        Common Uses of request:\n",
    "#        1. Accessing Form Data (POST)\n",
    "#        2. Getting Query Parameters (GET)\n",
    "#        3. Reading JSON Data (e.g., from API calls)\n",
    "#        4. Accessing Headers or Cookies"
   ]
  },
  {
   "cell_type": "code",
   "execution_count": null,
   "id": "80bbd425-a6c9-4334-bb66-c2c3c792cf80",
   "metadata": {},
   "outputs": [],
   "source": [
    "# 15. What is the purpose of Flask's jsonify() function?\n",
    "\n",
    "# Ans - The purpose of Flask’s jsonify() function is to convert Python data structures (like dictionaries or lists) into a JSON-formatted HTTP response \n",
    "#       which is a common format used in APIs and web services.\n",
    "\n",
    "#      Uses of  jsonify() when\n",
    "#      Build an API endpoint that returns data in JSON format.\n",
    "#      Ensure correct HTTP headers and response formatting.\n",
    "#      Send structured data (like status codes, messages, etc.) back to the client."
   ]
  },
  {
   "cell_type": "code",
   "execution_count": null,
   "id": "8a64afb4-3f6f-406b-9a03-0af2adc5bf32",
   "metadata": {},
   "outputs": [],
   "source": [
    "# 16. Explain Flask’s url_for() function\n",
    "\n",
    "# Ans - Flask’s url_for() function is used to dynamically generate URLs for your application’s routes using the function name, rather than hardcoding \n",
    "#       the URL path. This ensures that your URLs remain correct and flexible—even if you later change route paths.\n",
    "\n",
    "#       url_for() keeps your app DRY (Don't Repeat Yourself) and robust. It automatically builds correct URLs based on your route definitions, \n",
    "#       making maintenance and changes much easier."
   ]
  },
  {
   "cell_type": "code",
   "execution_count": null,
   "id": "c1f8a2c4-9fad-4740-be41-ee31a5d194a8",
   "metadata": {},
   "outputs": [],
   "source": [
    "# 17. How does Flask handle static files (CSS, JavaScript, etc.)?\n",
    "\n",
    "# Ans - Flask handles static files (like CSS, JavaScript, and images) using a special folder named **static**. Flask automatically serves files placed \n",
    "#       in this directory at the URL path /static/."
   ]
  },
  {
   "cell_type": "code",
   "execution_count": null,
   "id": "ffb87833-0153-4c53-b50e-dc5d42ec4268",
   "metadata": {},
   "outputs": [],
   "source": [
    "# 18. What is an API specification, and how does it help in building a Flask API?\n",
    "\n",
    "# Ans - An API specification is a detailed, formal description of how an API behaves and what it offers. It defines the available endpoints, \n",
    "#       request/response formats, parameters, authentication methods, error messages,and more.\n",
    "\n",
    "#      There are so many ways it helps bulding a Flask API like it automatically generate human-readable API docs (e.g., Swagger UI or Redoc)and provide\n",
    "#\t    a clear contract between frontend and backend teams.It automatically validate incoming requests and outgoing responses and Generate mock servers\n",
    "#       for frontend testing before backend is complete.It also generate Flask route stubs or client libraries using tools like Swagger Codegen or \n",
    "#       OpenAPI Generator."
   ]
  },
  {
   "cell_type": "code",
   "execution_count": null,
   "id": "cd54b5be-cc8b-4c7b-97e1-0bee4ab05df4",
   "metadata": {},
   "outputs": [],
   "source": [
    "# 19. What are HTTP status codes, and why are they important in a Flask API?\n",
    "\n",
    "# Ans - HTTP status codes are standardized 3-digit responses sent by a server to indicate the outcome of an HTTP request. They are essential for \n",
    "#       communication between clients (like browsers or mobile apps) and servers, and are especially important in APIs like those built with Flask.\n",
    "\n",
    "#      HTTP Status Codes Matter in a Flask API like\n",
    "#                       Purpose\t                                                             Description\n",
    "#                  Communicate result\t                         Let the client know if the request was successful, failed, or caused an error.\n",
    "#                Enable error handling\t                         Help clients handle errors (e.g., retry, show messages, or fail gracefully).\n",
    "#                  Improve debugging\t                             Make it easier to troubleshoot issues by providing meaningful codes.\n",
    "#                   Follow standards\t                             Complies with RESTful API conventions expected by clients and tools."
   ]
  },
  {
   "cell_type": "code",
   "execution_count": null,
   "id": "a548d965-dc90-4d59-a280-773cf4fba32c",
   "metadata": {},
   "outputs": [],
   "source": [
    "# 20. How do you handle POST requests in Flask?\n",
    "\n",
    "# Ans - In Flask, handling a POST request involves:\n",
    "\n",
    "#       Creating a route that allows the POST method.\n",
    "#       Accessing the data sent by the client (usually JSON, form data, or files).\n",
    "#       Responding accordingly."
   ]
  },
  {
   "cell_type": "code",
   "execution_count": null,
   "id": "da3b3665-d85b-4c62-af02-61e1d0eacae1",
   "metadata": {},
   "outputs": [],
   "source": [
    "# 21. How would you secure a Flask API4?\n",
    "\n",
    "# Ans - Securing a Flask API (v4) involves implementing multiple layers of security to protect against common web vulnerabilities, ensure authorized \n",
    "#       access, and maintain data integrity. Here's a comprehensive checklist:\n",
    "\n",
    "#       1. Authentication & Authorization\n",
    "#       2. HTTPS Everywhere\n",
    "#       3.Input Validation & Sanitization\n",
    "#       4. Prevent Common Attacks \n",
    "#       5. Secure Headers"
   ]
  },
  {
   "cell_type": "code",
   "execution_count": null,
   "id": "3d85997f-2add-400a-be2d-452b8e69111d",
   "metadata": {},
   "outputs": [],
   "source": [
    "# 22. What is the significance of the Flask-RESTful extension4?\n",
    "\n",
    "# Ans - The Flask-RESTful extension is a powerful tool that simplifies the development of RESTful APIs with Flask. Here's the significance of \n",
    "#       Flask-RESTful (often referred to in the context of \"Flask API v4\" or similar modern Flask APIs):\n",
    "\n",
    "#       1. Clean Resource-Based Structure\n",
    "#        Encourages organizing your API around resources (like User, Post, Comment), similar to object-oriented design.\n",
    "#        Each resource is a class with get(), post(), put(), and delete() methods for handling HTTP verbs.\n",
    "\n",
    "#       2. Extensible and Lightweight\n",
    "#       Plays well with other Flask extensions (like Flask-JWT-Extended, Flask-SQLAlchemy, etc.).\n",
    "#       Lets you define custom response formats and error handlers.\n",
    "\n",
    "#       3. Built-in Request Parsing\n",
    "#       Comes with reqparse for easy input parsing and validation (though many now prefer marshmallow or pydantic for more complex validation)."
   ]
  },
  {
   "cell_type": "code",
   "execution_count": null,
   "id": "3d72f0b9-f0ec-41de-ab15-0ae317554387",
   "metadata": {},
   "outputs": [],
   "source": [
    "# 23. What is the role of Flask’s session object?\n",
    "\n",
    "# Ans - The session object in Flask plays a crucial role in managing user sessions — i.e., it stores data across requests from the same user.\n",
    "\n",
    "#      It allows you to store information (key-value pairs) on a per-user basis between different requests.This is useful for things like:\n",
    "#      User login status\n",
    "#      Storing temporary preferences\n",
    "#      CSRF tokens\n",
    "#      Cart data in e-commerce apps\n",
    "\n",
    "#      Flask’s session uses a secure cookie to store data on the client side.Data is stored client-side, but signed using a secret key so it can’t be \n",
    "#      tampered with.Do not store sensitive data like passwords in the session, because it is visible (though not modifiable) by the client."
   ]
  },
  {
   "cell_type": "code",
   "execution_count": null,
   "id": "f1250f25-db4e-4686-abc3-7be97a5810f9",
   "metadata": {},
   "outputs": [],
   "source": [
    "                                                             # Practical Question #"
   ]
  },
  {
   "cell_type": "code",
   "execution_count": 1,
   "id": "352b8a33-3c77-4f13-8462-4c89e9382738",
   "metadata": {},
   "outputs": [
    {
     "name": "stdout",
     "output_type": "stream",
     "text": [
      "Requirement already satisfied: flask in c:\\users\\lenovo\\appdata\\local\\programs\\python\\python313\\lib\\site-packages (3.1.0)\n",
      "Requirement already satisfied: Werkzeug>=3.1 in c:\\users\\lenovo\\appdata\\local\\programs\\python\\python313\\lib\\site-packages (from flask) (3.1.3)\n",
      "Requirement already satisfied: Jinja2>=3.1.2 in c:\\users\\lenovo\\appdata\\local\\programs\\python\\python313\\lib\\site-packages (from flask) (3.1.5)\n",
      "Requirement already satisfied: itsdangerous>=2.2 in c:\\users\\lenovo\\appdata\\local\\programs\\python\\python313\\lib\\site-packages (from flask) (2.2.0)\n",
      "Requirement already satisfied: click>=8.1.3 in c:\\users\\lenovo\\appdata\\local\\programs\\python\\python313\\lib\\site-packages (from flask) (8.1.8)\n",
      "Requirement already satisfied: blinker>=1.9 in c:\\users\\lenovo\\appdata\\local\\programs\\python\\python313\\lib\\site-packages (from flask) (1.9.0)\n",
      "Requirement already satisfied: colorama in c:\\users\\lenovo\\appdata\\local\\programs\\python\\python313\\lib\\site-packages (from click>=8.1.3->flask) (0.4.6)\n",
      "Requirement already satisfied: MarkupSafe>=2.0 in c:\\users\\lenovo\\appdata\\local\\programs\\python\\python313\\lib\\site-packages (from Jinja2>=3.1.2->flask) (3.0.2)\n"
     ]
    },
    {
     "name": "stderr",
     "output_type": "stream",
     "text": [
      "\n",
      "[notice] A new release of pip is available: 25.0.1 -> 25.1.1\n",
      "[notice] To update, run: python.exe -m pip install --upgrade pip\n"
     ]
    }
   ],
   "source": [
    "! pip install flask\n"
   ]
  },
  {
   "cell_type": "code",
   "execution_count": 5,
   "id": "bb7dc46b-a139-4cda-9d4b-b65ec519ae8e",
   "metadata": {},
   "outputs": [],
   "source": [
    "# 1. How do you create a basic Flask application?\n",
    "\n",
    "rom flask import Flask\n",
    "\n",
    "app = Flask(__name__)\n",
    "\n",
    "@app.route(\"/\")\n",
    "def home():\n",
    "    return \"Hello, Flask!\"\n",
    "\n",
    "if __name__ == \"__main__\":\n",
    "    app.run(debug=True)"
   ]
  },
  {
   "cell_type": "code",
   "execution_count": 8,
   "id": "01b6abd0-d69a-4a45-94bc-1ba225d1ad3f",
   "metadata": {},
   "outputs": [],
   "source": [
    "# 2. How do you serve static files like images or CSS in Flask?\n",
    "\n",
    "from flask import Flask, render_template\n",
    "\n",
    "app = Flask(__name__)  \n",
    "\n",
    "@app.route('/')\n",
    "def home():\n",
    "    return render_template('index.html')  \n",
    "\n",
    "if __name__ == '__main__':\n",
    "    app.run(debug=True)"
   ]
  },
  {
   "cell_type": "code",
   "execution_count": null,
   "id": "9adb3620-1a30-421a-9662-4c1c9824bb33",
   "metadata": {},
   "outputs": [],
   "source": [
    "# 3. How do you define different routes with different HTTP methods in Flask?\n",
    "\n",
    "from flask import Flask, request\n",
    "\n",
    "app = Flask(__name__)\n",
    "\n",
    "\n",
    "@app.route('/hello', methods=['GET'])\n",
    "def hello_get():\n",
    "    return \"Hello via GET!\"\n",
    "\n",
    "@app.route('/hello', methods=['POST'])\n",
    "def hello_post():\n",
    "    return \"Hello via POST!\"\n",
    "\n",
    "@app.route('/greet', methods=['GET', 'POST'])\n",
    "def greet():\n",
    "    if request.method == 'POST':\n",
    "        return \"Greeting via POST!\"\n",
    "    else:\n",
    "        return \"Greeting via GET!\"\n",
    "\n",
    "if __name__ == '__main__':\n",
    "    app.run(debug=True)"
   ]
  },
  {
   "cell_type": "code",
   "execution_count": null,
   "id": "1ea18eee-6fbc-44ab-a5a9-e63445095601",
   "metadata": {},
   "outputs": [],
   "source": [
    "# 4. How do you render HTML templates in Flask?\n",
    "\n",
    "from flask import Flask, render_template\n",
    "\n",
    "app = Flask(__name__)\n",
    "\n",
    "@app.route('/')\n",
    "def home():\n",
    "    return render_template('index.html', name='Flask User')\n",
    "\n",
    "if __name__ == '__main__':\n",
    "    app.run(debug=True)"
   ]
  },
  {
   "cell_type": "code",
   "execution_count": null,
   "id": "c9b2a534-f73c-40a7-bfa1-d3065e50285d",
   "metadata": {},
   "outputs": [],
   "source": [
    "# 5. How can you generate URLs for routes in Flask using url_for?\n",
    "\n",
    "from flask import Flask, url_for, redirect\n",
    "\n",
    "app = Flask(__name__)\n",
    "\n",
    "@app.route('/')\n",
    "def home():\n",
    "    return \"Home Page\"\n",
    "\n",
    "@app.route('/about')\n",
    "def about():\n",
    "    return \"About Page\"\n",
    "\n",
    "@app.route('/go-to-about')\n",
    "def go_to_about():\n",
    "   \n",
    "    return redirect(url_for('about'))\n",
    "\n",
    "if __name__ == '__main__':\n",
    "    app.run(debug=True)"
   ]
  },
  {
   "cell_type": "code",
   "execution_count": null,
   "id": "9172f1b2-1684-4808-a58f-862c3202da44",
   "metadata": {},
   "outputs": [],
   "source": [
    "# 6. How do you handle forms in Flask?\n",
    "\n",
    "from flask import Flask, request, render_template\n",
    "\n",
    "app = Flask(__name__)\n",
    "\n",
    "@app.route('/form', methods=['GET', 'POST'])\n",
    "def form():\n",
    "    if request.method == 'POST':\n",
    "        username = request.form['username']\n",
    "        return f'Hello, {username}!'\n",
    "    return render_template('form.html')\n",
    "\n",
    "if __name__ == '__main__':\n",
    "    app.run(debug=True)"
   ]
  },
  {
   "cell_type": "code",
   "execution_count": null,
   "id": "0ca386a4-3039-4838-a029-611199682bb8",
   "metadata": {},
   "outputs": [],
   "source": [
    "# 7. How can you validate form data in Flask?\n",
    "\n",
    "from flask import Flask, render_template, request, flash, redirect, url_for\n",
    "\n",
    "app = Flask(__name__)\n",
    "app.secret_key = 'your_secret_key'  \n",
    "\n",
    "@app.route('/register', methods=['GET', 'POST'])\n",
    "def register():\n",
    "    if request.method == 'POST':\n",
    "        username = request.form.get('username')\n",
    "        email = request.form.get('email')\n",
    "\n",
    "        if not username or not email:\n",
    "            flash(\"All fields are required!\")\n",
    "            return redirect(url_for('register'))\n",
    "\n",
    "        if '@' not in email:\n",
    "            flash(\"Invalid email address!\")\n",
    "            return redirect(url_for('register'))\n",
    "\n",
    "        return f\"Welcome, {username}!\"\n",
    "\n",
    "    return render_template('register.html')"
   ]
  },
  {
   "cell_type": "code",
   "execution_count": null,
   "id": "57af460e-bb48-4bde-a665-f0d67acd429d",
   "metadata": {},
   "outputs": [],
   "source": [
    "# 8. How do you manage sessions in Flask?\n",
    "\n",
    "from flask import Flask, session, redirect, url_for, request\n",
    "\n",
    "app = Flask(__name__)\n",
    "app.secret_key = 'your-secret-key'  \n",
    "\n",
    "@app.route('/')\n",
    "def index():\n",
    "    if 'username' in session:\n",
    "        return f\"Logged in as {session['username']}\"\n",
    "    return \"You are not logged in\"\n",
    "\n",
    "@app.route('/login', methods=['GET', 'POST'])\n",
    "def login():\n",
    "    if request.method == 'POST':\n",
    "        session['username'] = request.form['username']\n",
    "        return redirect(url_for('index'))\n",
    "    return '''\n",
    "        <form method=\"post\">\n",
    "            <input type=\"text\" name=\"username\" placeholder=\"Enter username\">\n",
    "            <input type=\"submit\" value=\"Login\">\n",
    "        </form>\n",
    "    '''\n",
    "\n",
    "@app.route('/logout')\n",
    "def logout():\n",
    "    session.pop('username', None)\n",
    "    return redirect(url_for('index'))"
   ]
  },
  {
   "cell_type": "code",
   "execution_count": null,
   "id": "a5e8e905-c015-4c7d-9553-59df99245d8c",
   "metadata": {},
   "outputs": [],
   "source": [
    "# 9. How do you redirect to a different route in Flask\n",
    "\n",
    "from flask import Flask, redirect, url_for\n",
    "\n",
    "app = Flask(__name__)\n",
    "\n",
    "@app.route('/')\n",
    "def home():\n",
    "    return \"Welcome to the Home Page!\"\n",
    "\n",
    "@app.route('/about')\n",
    "def about():\n",
    "    return \"This is the About Page!\"\n",
    "\n",
    "@app.route('/redirect-to-about')\n",
    "def redirect_to_about():\n",
    "    return redirect(url_for('about'))\n",
    "\n",
    "if __name__ == \"__main__\":\n",
    "    app.run(debug=True)"
   ]
  },
  {
   "cell_type": "code",
   "execution_count": null,
   "id": "855042d9-ad8f-445f-9f19-df40dc234217",
   "metadata": {},
   "outputs": [],
   "source": [
    "# 10. How do you handle errors in Flask (e.g., 404)?\n",
    "\n",
    "from flask import Flask, render_template\n",
    "\n",
    "app = Flask(__name__)\n",
    "\n",
    "@app.route('/')\n",
    "def home():\n",
    "    return \"Welcome to the Home Page!\"\n",
    "\n",
    "@app.errorhandler(404)\n",
    "def page_not_found(e):\n",
    "    return render_template('404.html'), 404  \n",
    "\n",
    "if __name__ == '__main__':\n",
    "    app.run(debug=True)"
   ]
  },
  {
   "cell_type": "code",
   "execution_count": null,
   "id": "71c4d4d6-7cbe-4737-a74c-e7bd7a177efa",
   "metadata": {},
   "outputs": [],
   "source": [
    "# 11.How do you structure a Flask app using Blueprints?\n",
    "\n",
    "from flask import Flask\n",
    "from auth import auth_blueprint  \n",
    "from blog import blog_blueprint  \n",
    "\n",
    "app = Flask(__name__)\n",
    "\n",
    "\n",
    "app.register_blueprint(auth_blueprint, url_prefix='/auth') \n",
    "app.register_blueprint(blog_blueprint, url_prefix='/blog')  \n",
    "\n",
    "if __name__ == '__main__':\n",
    "    app.run(debug=True)"
   ]
  },
  {
   "cell_type": "code",
   "execution_count": null,
   "id": "536f922c-046c-4555-b500-ab0346415515",
   "metadata": {},
   "outputs": [],
   "source": [
    "# 12. How do you define a custom Jinja filter in Flask?\n",
    "\n",
    "from flask import Flask, render_template\n",
    "\n",
    "app = Flask(__name__)\n",
    "\n",
    "def capitalize_words(s):\n",
    "    return ' '.join([word.capitalize() for word in s.split()])\n",
    "\n",
    "app.jinja_env.filters['capitalize_words'] = capitalize_words\n",
    "\n",
    "@app.route('/')\n",
    "def index():\n",
    "    my_text = \"hello world from flask\"\n",
    "    return render_template('index.html', text=my_text)\n",
    "\n",
    "if __name__ == '__main__':\n",
    "    app.run(debug=True)"
   ]
  },
  {
   "cell_type": "code",
   "execution_count": null,
   "id": "72588f3c-ab9e-489d-864c-97964a2bd384",
   "metadata": {},
   "outputs": [],
   "source": [
    "# 13. How can you redirect with query parameters in Flask?\n",
    "\n",
    "from flask import Flask, redirect, url_for\n",
    "\n",
    "app = Flask(__name__)\n",
    "\n",
    "@app.route('/')\n",
    "def home():\n",
    "    return 'Welcome to the Home Page!'\n",
    "\n",
    "@app.route('/search')\n",
    "def search():\n",
    "    return 'This is the search page!'\n",
    "\n",
    "@app.route('/redirect_to_search')\n",
    "def redirect_to_search():\n",
    "\n",
    "    search_query = \"flask tutorial\"\n",
    "    page = 2\n",
    "    \n",
    "    return redirect(url_for('search', query=search_query, page=page))\n",
    "\n",
    "if __name__ == '__main__':\n",
    "    app.run(debug=True)"
   ]
  },
  {
   "cell_type": "code",
   "execution_count": null,
   "id": "0c6829d6-321a-401f-a1e4-ff3721a8f32d",
   "metadata": {},
   "outputs": [],
   "source": [
    "# 14. How do you return JSON responses in Flask\n",
    "\n",
    "from flask import Flask, jsonify\n",
    "\n",
    "app = Flask(__name__)\n",
    "\n",
    "@app.route('/api/data')\n",
    "def get_data():\n",
    "    data = {\n",
    "        \"name\": \"Flask\",\n",
    "        \"version\": \"2.0.1\",\n",
    "        \"status\": \"active\"\n",
    "    }\n",
    "    return jsonify(data)\n",
    "\n",
    "if __name__ == '__main__':\n",
    "    app.run(debug=True)\n"
   ]
  },
  {
   "cell_type": "code",
   "execution_count": null,
   "id": "1bdce397-417e-49d4-88fb-85b7724d8baf",
   "metadata": {},
   "outputs": [],
   "source": [
    "# 15. How do you capture URL parameters in Flask?\n",
    "\n",
    "from flask import Flask\n",
    "\n",
    "app = Flask(__name__)\n",
    "\n",
    "@app.route('/user/<username>')\n",
    "def show_user(username):\n",
    "    return f\"Hello, {username}!\"\n",
    "\n",
    "if __name__ == '__main__':\n",
    "    app.run(debug=True)"
   ]
  }
 ],
 "metadata": {
  "kernelspec": {
   "display_name": "Python 3 (ipykernel)",
   "language": "python",
   "name": "python3"
  },
  "language_info": {
   "codemirror_mode": {
    "name": "ipython",
    "version": 3
   },
   "file_extension": ".py",
   "mimetype": "text/x-python",
   "name": "python",
   "nbconvert_exporter": "python",
   "pygments_lexer": "ipython3",
   "version": "3.13.2"
  }
 },
 "nbformat": 4,
 "nbformat_minor": 5
}
