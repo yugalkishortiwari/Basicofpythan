{
  "nbformat": 4,
  "nbformat_minor": 0,
  "metadata": {
    "colab": {
      "provenance": []
    },
    "kernelspec": {
      "name": "python3",
      "display_name": "Python 3"
    },
    "language_info": {
      "name": "python"
    }
  },
  "cells": [
    {
      "cell_type": "code",
      "source": [
        "# .Theory basice of python"
      ],
      "metadata": {
        "id": "mBR9Nj2WzatU"
      },
      "execution_count": null,
      "outputs": []
    },
    {
      "cell_type": "code",
      "execution_count": null,
      "metadata": {
        "id": "YuYveGVvd28h"
      },
      "outputs": [],
      "source": [
        "# 1. What is Python and Why it is popular?\n",
        "\n",
        "# Ans - Python is a popular programming language. It was created by Guido van Rossum, and released in 1991.Python is an interpreted, object-oriented,\n",
        "#       high-level programming language with dynamic semantics.\n",
        "\n",
        "#       Python has a reputation as a beginner-friendly language, replacing Java as the most widely used introductory language because it handles much\n",
        "#       of the complexity for the user, allowing beginners to focus on fully grasping programming concepts rather than minute details.Python becomes a\n",
        "#       popular choice due to its readability,versatility, and strong community support, which enable efficient data manipulation, analysis,\n",
        "#       and machine learning tasks."
      ]
    },
    {
      "cell_type": "code",
      "source": [
        "# 2. What is an interpreter in Python?\n",
        "\n",
        "# Ans - In Python, an interpreter is a program that creates a bridge between our code and computer hardware.It basically executes Python code\n",
        "#       which we are putting in IDE line by line, translating it into machine-readable instructions."
      ],
      "metadata": {
        "id": "jP0SElPZeLaw"
      },
      "execution_count": null,
      "outputs": []
    },
    {
      "cell_type": "code",
      "source": [
        "# 3. What are predefined keywords in Python?\n",
        "\n",
        "# Ans - Python predefined keywords are reserved words with specific functions and restrictions in the language. Currently, Python has thirty-five\n",
        "#       keywords and four soft keywords. These keywords are always available in Python, which means we don’t need to import them. These keywords\n",
        "#       are all having diffrent Understanding and it helps to build Python programs.Example like - import,try,False,True etc."
      ],
      "metadata": {
        "id": "yrNUg4j1eLr6"
      },
      "execution_count": null,
      "outputs": []
    },
    {
      "cell_type": "code",
      "source": [
        "# 4. Can keywords be used as variable names?\n",
        "\n",
        "# Ans - No, We cannot use Python keywords as variable names because they are reserved words with specific meanings in the language's syntax."
      ],
      "metadata": {
        "id": "jMtH8vWCeL4A"
      },
      "execution_count": null,
      "outputs": []
    },
    {
      "cell_type": "code",
      "source": [
        "# 5. What is mutibility in Python?\n",
        "\n",
        "# Ans - Mutibility in Python means its value can be changed after it has been created. We can modify a mutable object with the original object itself.\n",
        "#       To put it simply, mutable objects are those that can be modified either in terms of state or contents after they have been created.\n",
        "#       For Example -  lists, dictionaries and sets are mutable."
      ],
      "metadata": {
        "id": "WoXq8irveL7s"
      },
      "execution_count": null,
      "outputs": []
    },
    {
      "cell_type": "code",
      "source": [
        "# 6. Why are lists mutable,but tuples are immutable?\n",
        "\n",
        "# Ans - Lists are considered mutable because they can be modified or changed after they are created. This means that the elements of a list\n",
        "#       can be added, removed, or modified without creating a new list.\n",
        "\n",
        "#       Tuples are immutable because they are meant to be used for fixed collections of items that can not be changed.Tuples use less memory than lists.\n",
        "#       They are also a bit faster, especially when we're just looking up values.So,if any data that is not required to change,tuples will be the best\n",
        "#       option instead of lists."
      ],
      "metadata": {
        "id": "oMkaQWfveL-t"
      },
      "execution_count": null,
      "outputs": []
    },
    {
      "cell_type": "code",
      "source": [
        "# 7. What is the difference between \"==\" and \"is\" operators in Python?\n",
        "\n",
        "# Ans - The == operator in Python comes into play when we want to check if the values of two operands are equal. If so, the condition is deemed true.\n",
        "\n",
        "#       \"is\" operator is a positive equivalence checking operator. It is used to determine if two variables refer to an identical memory location or\n",
        "#        not.\"is\" operator returns True if both operands have the same unique id (points to the same memory location)."
      ],
      "metadata": {
        "id": "mbLzh5rKeMBz"
      },
      "execution_count": null,
      "outputs": []
    },
    {
      "cell_type": "code",
      "source": [
        "# 8. What are logical operation in Python?\n",
        "\n",
        "# Ans - The assessment of expressions to make decisions typically makes use of the logical operators.The following logical operators are supported\n",
        "#        by Python.\n",
        "\n",
        "#        Operator                                 Description                        Example\n",
        "#    \"and\" Logical AND                    If both the operands are              (a and b) is true.\n",
        "#                                      true then condition becomes true.\n",
        "\n",
        "#      \"or\" Logical OR                    If any of the two operands              (a or b) is true.\n",
        "#                                  are non-zero then condition becomes true.\n",
        "\n",
        "#      \"not\" Logical NOT                Used to reverse the logical             Not(a and b) is false.\n",
        "#                                           state of its operand."
      ],
      "metadata": {
        "id": "Lf110FdneME6"
      },
      "execution_count": null,
      "outputs": []
    },
    {
      "cell_type": "code",
      "source": [
        "# 9. What is type casting in Python?\n",
        "\n",
        "# Ans - Type Casting is the method to convert the Python variable datatype into a certain data type in order to perform the required operation\n",
        "#       by users.There can be two types of Type Casting in Python:\n",
        "\n",
        "#       •\tPython Implicit Type Conversion\n",
        "#       •\tPython Explicit Type Conversion"
      ],
      "metadata": {
        "id": "Y0cCu39ieMH_"
      },
      "execution_count": null,
      "outputs": []
    },
    {
      "cell_type": "code",
      "source": [
        "# 10. What is the difference between implicit and Explicit type casting in Python?\n",
        "\n",
        "# Ans - Implicit Type Conversion-By the Python program automatically.For example, when adding an integer and a float,the result is automatically\n",
        "#       a float where Explicit Type Conversion- We must perform this task manually.For example, to convert a string to an integer,we will use\n",
        "#       int(\"123\") to convert it from String to Integer."
      ],
      "metadata": {
        "id": "zK3_xqHbeMK3"
      },
      "execution_count": null,
      "outputs": []
    },
    {
      "cell_type": "code",
      "source": [
        "# 11. What is the purpose of conditional statement in Python?\n",
        "\n",
        "# Ans - In Python,conditional statements act depending on whether a given condition is true or false. The purpose of the conditional statements is that\n",
        "#      these statements help control the flow of a program,making it behave differently in different situations.We can execute different blocks of codes\n",
        "#       depending on the outcome of a condition.Condition statements always evaluate to either True or False.\n",
        "\n",
        "\n",
        "#  There are three types of conditional statements.\n",
        "#  1. if statement\n",
        "#  2. if-else\n",
        "#  3. if-elif-else\n",
        "#  4. nested if-else"
      ],
      "metadata": {
        "id": "ktPetRCfeMN6"
      },
      "execution_count": null,
      "outputs": []
    },
    {
      "cell_type": "code",
      "source": [
        "# 12. How does the elif statement work?\n",
        "\n",
        "# Ans - In Python,'Elif' stands for 'else if'where this statement blocks to chain multiple conditions one after another.This is useful when multiple\n",
        "#       conditions needs to be checked.With the help of elif we can make a tricky decision.The elif statement checks multiple conditions one by one and\n",
        "#       if the condition fulfills,then executes that code."
      ],
      "metadata": {
        "id": "0o69nVcJeMRD"
      },
      "execution_count": null,
      "outputs": []
    },
    {
      "cell_type": "code",
      "source": [
        "# 13. What is the difference between for and while loop?\n",
        "\n",
        "# Ans - A for loop in Python repeats executing a code block from a sequence till certain number of times.Whereas a while loop in Python repeats\n",
        "#       execution of a code block till the condition is true which is not certain.\n",
        "#       The major difference between for loop and while loop is that for loop is used when the number of iterations is known, whereas execution is done\n",
        "#       in a while loop until the statement in the program is proved wrong."
      ],
      "metadata": {
        "id": "Dw7GbVBFeMT7"
      },
      "execution_count": null,
      "outputs": []
    },
    {
      "cell_type": "code",
      "source": [],
      "metadata": {
        "id": "tw6PcfmdzYTj"
      },
      "execution_count": null,
      "outputs": []
    },
    {
      "cell_type": "code",
      "source": [],
      "metadata": {
        "id": "MzceI2xEeMWx"
      },
      "execution_count": null,
      "outputs": []
    },
    {
      "cell_type": "code",
      "source": [],
      "metadata": {
        "id": "C-zPGMvXeMZ8"
      },
      "execution_count": null,
      "outputs": []
    },
    {
      "cell_type": "code",
      "source": [
        "  #Practical Questions#"
      ],
      "metadata": {
        "id": "dSJyigFPeMc1"
      },
      "execution_count": null,
      "outputs": []
    },
    {
      "cell_type": "code",
      "source": [
        "# 1. Write a python program to print \"Hello World\"\n",
        "\n",
        "x = \"Hello World!\"\n",
        "print(x)"
      ],
      "metadata": {
        "colab": {
          "base_uri": "https://localhost:8080/"
        },
        "id": "GrnfOl5-eMgR",
        "outputId": "ee43b4ab-0a35-49aa-f7ac-7eb98e698bb9"
      },
      "execution_count": null,
      "outputs": [
        {
          "output_type": "stream",
          "name": "stdout",
          "text": [
            "Hello World!\n"
          ]
        }
      ]
    },
    {
      "cell_type": "code",
      "source": [
        "# 2. Write a python program that displays your name and age\n",
        "\n",
        "Name = \"yugal kishor\"\n",
        "Age = 25\n",
        "print(Name , Age)"
      ],
      "metadata": {
        "colab": {
          "base_uri": "https://localhost:8080/"
        },
        "id": "QUg0KX3Flicq",
        "outputId": "00c8ceff-8a64-4d20-d379-1ff2c1499085"
      },
      "execution_count": null,
      "outputs": [
        {
          "output_type": "stream",
          "name": "stdout",
          "text": [
            "yugal kishor 25\n"
          ]
        }
      ]
    },
    {
      "cell_type": "code",
      "source": [
        "# 3. Write a code to print all the pre-defined keywords in Python using the keyword library\n",
        "\n",
        "help(\"keywords\")"
      ],
      "metadata": {
        "colab": {
          "base_uri": "https://localhost:8080/"
        },
        "id": "eDPhz6g2oVVe",
        "outputId": "defd34c2-f64a-47b6-e53a-e975a9125807"
      },
      "execution_count": null,
      "outputs": [
        {
          "output_type": "stream",
          "name": "stdout",
          "text": [
            "\n",
            "Here is a list of the Python keywords.  Enter any keyword to get more help.\n",
            "\n",
            "False               class               from                or\n",
            "None                continue            global              pass\n",
            "True                def                 if                  raise\n",
            "and                 del                 import              return\n",
            "as                  elif                in                  try\n",
            "assert              else                is                  while\n",
            "async               except              lambda              with\n",
            "await               finally             nonlocal            yield\n",
            "break               for                 not                 \n",
            "\n"
          ]
        }
      ]
    },
    {
      "cell_type": "code",
      "source": [
        "# 4. Write a program that checks if a given word is a python keyword.\n",
        "a = input(\"Enter the keyword:\")\n",
        "import keyword\n",
        "if keyword.iskeyword(a):\n",
        "    print(\"True\")\n",
        "else:\n",
        "    print(\"False\")\n"
      ],
      "metadata": {
        "colab": {
          "base_uri": "https://localhost:8080/"
        },
        "id": "JAoq40Q9oa1B",
        "outputId": "919874ea-0c86-4c9c-9d89-b2bfd470c381"
      },
      "execution_count": null,
      "outputs": [
        {
          "output_type": "stream",
          "name": "stdout",
          "text": [
            "Enter the keyword:a\n",
            "False\n"
          ]
        }
      ]
    },
    {
      "cell_type": "code",
      "source": [
        "\n",
        "# 5. Create a list and tuple in Python,and demonstrate how attempting to change an element works differently for each\n",
        "tup = (1,2,3)\n",
        "type(tup) # tuple\n",
        "tup[0] = \"Namaskar\"\n",
        "print(tup)\n",
        "#Tuple is immutable so element can not be changed\n",
        "\n",
        "l = [1, 2, 5.04, \"India\"]\n",
        "l[0] # 1\n",
        "l[0] = \"world\"\n",
        "print(l)\n",
        "#List is mutable so element can  be changed"
      ],
      "metadata": {
        "colab": {
          "base_uri": "https://localhost:8080/",
          "height": 211
        },
        "id": "h5Vbzz-HowgP",
        "outputId": "035c5ce2-7829-4088-86b3-4b684d0cd9a3"
      },
      "execution_count": null,
      "outputs": [
        {
          "output_type": "error",
          "ename": "TypeError",
          "evalue": "'tuple' object does not support item assignment",
          "traceback": [
            "\u001b[0;31m---------------------------------------------------------------------------\u001b[0m",
            "\u001b[0;31mTypeError\u001b[0m                                 Traceback (most recent call last)",
            "\u001b[0;32m<ipython-input-1-a9a5fb526cf8>\u001b[0m in \u001b[0;36m<cell line: 0>\u001b[0;34m()\u001b[0m\n\u001b[1;32m      2\u001b[0m \u001b[0mtup\u001b[0m \u001b[0;34m=\u001b[0m \u001b[0;34m(\u001b[0m\u001b[0;36m1\u001b[0m\u001b[0;34m,\u001b[0m\u001b[0;36m2\u001b[0m\u001b[0;34m,\u001b[0m\u001b[0;36m3\u001b[0m\u001b[0;34m)\u001b[0m\u001b[0;34m\u001b[0m\u001b[0;34m\u001b[0m\u001b[0m\n\u001b[1;32m      3\u001b[0m \u001b[0mtype\u001b[0m\u001b[0;34m(\u001b[0m\u001b[0mtup\u001b[0m\u001b[0;34m)\u001b[0m \u001b[0;31m# tuple\u001b[0m\u001b[0;34m\u001b[0m\u001b[0;34m\u001b[0m\u001b[0m\n\u001b[0;32m----> 4\u001b[0;31m \u001b[0mtup\u001b[0m\u001b[0;34m[\u001b[0m\u001b[0;36m0\u001b[0m\u001b[0;34m]\u001b[0m \u001b[0;34m=\u001b[0m \u001b[0;34m\"Namaskar\"\u001b[0m\u001b[0;34m\u001b[0m\u001b[0;34m\u001b[0m\u001b[0m\n\u001b[0m\u001b[1;32m      5\u001b[0m \u001b[0mprint\u001b[0m\u001b[0;34m(\u001b[0m\u001b[0mtup\u001b[0m\u001b[0;34m)\u001b[0m\u001b[0;34m\u001b[0m\u001b[0;34m\u001b[0m\u001b[0m\n\u001b[1;32m      6\u001b[0m \u001b[0;31m#Tuple is immutable so element can not be changed\u001b[0m\u001b[0;34m\u001b[0m\u001b[0;34m\u001b[0m\u001b[0m\n",
            "\u001b[0;31mTypeError\u001b[0m: 'tuple' object does not support item assignment"
          ]
        }
      ]
    },
    {
      "cell_type": "code",
      "source": [
        "# 6. Write a function to demonstrate the behaviour of mutable and immutable arguments\n",
        "\n",
        "l_1 = [1, 3, 4, \"alex\", \"PwSkills\"]\n",
        "l_1[0]\n",
        "l_1[0] = \"alex\"\n",
        "print(l) # print(l_1) # mutable"
      ],
      "metadata": {
        "colab": {
          "base_uri": "https://localhost:8080/",
          "height": 176
        },
        "id": "eaGkE0MlpcdQ",
        "outputId": "50bf26c6-433d-4a8e-b61b-b90578fb1079"
      },
      "execution_count": null,
      "outputs": [
        {
          "output_type": "error",
          "ename": "NameError",
          "evalue": "name 'l' is not defined",
          "traceback": [
            "\u001b[0;31m---------------------------------------------------------------------------\u001b[0m",
            "\u001b[0;31mNameError\u001b[0m                                 Traceback (most recent call last)",
            "\u001b[0;32m<ipython-input-35-a5437bbb6301>\u001b[0m in \u001b[0;36m<cell line: 0>\u001b[0;34m()\u001b[0m\n\u001b[1;32m      4\u001b[0m \u001b[0ml_1\u001b[0m\u001b[0;34m[\u001b[0m\u001b[0;36m0\u001b[0m\u001b[0;34m]\u001b[0m\u001b[0;34m\u001b[0m\u001b[0;34m\u001b[0m\u001b[0m\n\u001b[1;32m      5\u001b[0m \u001b[0ml_1\u001b[0m\u001b[0;34m[\u001b[0m\u001b[0;36m0\u001b[0m\u001b[0;34m]\u001b[0m \u001b[0;34m=\u001b[0m \u001b[0;34m\"alex\"\u001b[0m\u001b[0;34m\u001b[0m\u001b[0;34m\u001b[0m\u001b[0m\n\u001b[0;32m----> 6\u001b[0;31m \u001b[0mprint\u001b[0m\u001b[0;34m(\u001b[0m\u001b[0ml\u001b[0m\u001b[0;34m)\u001b[0m \u001b[0;31m# print(l_1) # mutable\u001b[0m\u001b[0;34m\u001b[0m\u001b[0;34m\u001b[0m\u001b[0m\n\u001b[0m",
            "\u001b[0;31mNameError\u001b[0m: name 'l' is not defined"
          ]
        }
      ]
    },
    {
      "cell_type": "code",
      "source": [
        "# 7. both (6 and 7 questions are same)"
      ],
      "metadata": {
        "id": "VUuCV9rfs6QF"
      },
      "execution_count": null,
      "outputs": []
    },
    {
      "cell_type": "code",
      "source": [
        "# 8. Write a program to demonstrate the use of logical operator\n",
        "\n",
        "a = input(\"Enter the num_1:\")\n",
        "b = input(\"Enter the num_2:\")\n",
        "\n",
        "if a < b and b > a:\n",
        "    print(\"True\")\n",
        "else:\n",
        "    print(\"False\")\n",
        "\n",
        "if a > b or b > a:\n",
        "    print(\"True\")\n",
        "else:\n",
        "    print(\"False\")"
      ],
      "metadata": {
        "colab": {
          "base_uri": "https://localhost:8080/"
        },
        "id": "kZ6ZLDntret5",
        "outputId": "9f36ad01-c233-426f-a81c-c067d19b2b03"
      },
      "execution_count": null,
      "outputs": [
        {
          "output_type": "stream",
          "name": "stdout",
          "text": [
            "Enter the num_1:55\n",
            "Enter the num_2:40\n",
            "False\n",
            "True\n"
          ]
        }
      ]
    },
    {
      "cell_type": "code",
      "source": [
        "# 9. Write a python program to convert user input from string to integer,float,and boolean types.\n",
        "\n",
        "a = (input(\"Enter the num:\"))\n",
        "print(a)\n",
        "print(type(a))\n",
        "\n",
        "b = int(a)\n",
        "print(b)\n",
        "print(type(b))\n",
        "\n",
        "a = (input(\"Enter the num:\"))\n",
        "print(a)\n",
        "print(type(a))\n",
        "\n",
        "b = float(a)\n",
        "print(b)\n",
        "print(type(b))\n",
        "\n",
        "a = (input(\"Enter the string:\"))\n",
        "print(a)\n",
        "print(type(a))\n",
        "\n",
        "b = bool(a)\n",
        "print(b)\n",
        "print(type(b))"
      ],
      "metadata": {
        "colab": {
          "base_uri": "https://localhost:8080/"
        },
        "id": "YL7hw2x6tvB3",
        "outputId": "ecbb2ef2-ca66-4a02-b8f5-5cb789c93931"
      },
      "execution_count": null,
      "outputs": [
        {
          "output_type": "stream",
          "name": "stdout",
          "text": [
            "Enter the num:17\n",
            "17\n",
            "<class 'str'>\n",
            "17\n",
            "<class 'int'>\n",
            "Enter the num:25\n",
            "25\n",
            "<class 'str'>\n",
            "25.0\n",
            "<class 'float'>\n",
            "Enter the string:17\n",
            "17\n",
            "<class 'str'>\n",
            "True\n",
            "<class 'bool'>\n"
          ]
        }
      ]
    },
    {
      "cell_type": "code",
      "source": [
        "# 10. Write code to demonstrate typecasting with list elements\n",
        "\n",
        "a = 5\n",
        "print(a)\n",
        "print(type(a))\n",
        "\n",
        "a = \"alex\"\n",
        "print(a)\n",
        "print(type(a))"
      ],
      "metadata": {
        "colab": {
          "base_uri": "https://localhost:8080/"
        },
        "id": "okNI6Im6t7kj",
        "outputId": "4a254c6f-3dcb-4492-ca57-b7bc5cc79837"
      },
      "execution_count": null,
      "outputs": [
        {
          "output_type": "stream",
          "name": "stdout",
          "text": [
            "5\n",
            "<class 'int'>\n",
            "alex\n",
            "<class 'str'>\n"
          ]
        }
      ]
    },
    {
      "cell_type": "code",
      "source": [
        "# 11. Write a programme that checks if a number is positive,negative or zero\n",
        "\n",
        "a = int(input(\"Enter the num:\"))\n",
        "if a > 0:\n",
        "    print(\"the number is positive\")\n",
        "elif a < 0:\n",
        "    print(\"the number is negative\")\n",
        "elif a == 0:\n",
        "    print(\"the number is zero\")"
      ],
      "metadata": {
        "colab": {
          "base_uri": "https://localhost:8080/"
        },
        "id": "FGYYhVAhuZrU",
        "outputId": "dad7a19a-4f04-47e7-d730-18cc0a6b540e"
      },
      "execution_count": null,
      "outputs": [
        {
          "output_type": "stream",
          "name": "stdout",
          "text": [
            "Enter the num:-7\n",
            "the number is negative\n"
          ]
        }
      ]
    },
    {
      "cell_type": "code",
      "source": [
        "# 12. Write a for loop to print numbers from 1 - 10\n",
        "\n",
        "for i in range(0,19):\n",
        "    print(i,end = \" \")"
      ],
      "metadata": {
        "colab": {
          "base_uri": "https://localhost:8080/"
        },
        "id": "nyfY88qUutce",
        "outputId": "096dc5bc-4e7e-413c-b681-1890ac1286d6"
      },
      "execution_count": null,
      "outputs": [
        {
          "output_type": "stream",
          "name": "stdout",
          "text": [
            "0 1 2 3 4 5 6 7 8 9 10 11 12 13 14 15 16 17 18 "
          ]
        }
      ]
    },
    {
      "cell_type": "code",
      "source": [
        "# 13. Write a python program to find the sum of all even numbers between 1 and 50\n",
        "# using while loop\n",
        "\n",
        "i=8\n",
        "sum=0\n",
        "while(i<=50):\n",
        "    if(i%2==0):\n",
        "        sum=sum+i\n",
        "    i=i+1\n",
        "print(\"The addition of even numbers are = \",sum)"
      ],
      "metadata": {
        "colab": {
          "base_uri": "https://localhost:8080/"
        },
        "id": "P7qOsI0yvM9H",
        "outputId": "7d76a803-3d48-4d3d-ea5e-1cfc5401ccc2"
      },
      "execution_count": null,
      "outputs": [
        {
          "output_type": "stream",
          "name": "stdout",
          "text": [
            "The addition of even numbers are =  638\n"
          ]
        }
      ]
    },
    {
      "cell_type": "code",
      "source": [
        "#14. Write a code to reverse a string using while loop\n",
        "\n",
        "a = input(\"Enter the string:\")\n",
        "output = \" \"\n",
        "i = len(a)-1\n",
        "while i >= 0:\n",
        "   output = output+a[i]\n",
        "   i = i-1\n",
        "print(output)"
      ],
      "metadata": {
        "colab": {
          "base_uri": "https://localhost:8080/"
        },
        "id": "WNrWHPzAvas0",
        "outputId": "e49a9bb2-afe6-464b-a279-7fa6d5cb7c7c"
      },
      "execution_count": null,
      "outputs": [
        {
          "output_type": "stream",
          "name": "stdout",
          "text": [
            "Enter the string:deepti\n",
            " itpeed\n"
          ]
        }
      ]
    },
    {
      "cell_type": "code",
      "source": [
        "#15. Write a python program to calculate the factorial of a number provided by the user using a while loop.\n",
        "\n",
        "num = int(input(\"Enter the number :\"))\n",
        "Fact = 1\n",
        "while (num>1):\n",
        "    Fact = Fact*num\n",
        "    num=num-1\n",
        "print(\"Factorial of the number is = \",Fact)\n",
        "\n",
        "#for i in range(1,num+1):\n",
        "#    Fact = Fact*i\n",
        "#print(\"Factorial of the number is = \",Fact)"
      ],
      "metadata": {
        "colab": {
          "base_uri": "https://localhost:8080/"
        },
        "id": "DmlkZenLvxLQ",
        "outputId": "cdca9b78-68e6-4125-d692-a419da8b6263"
      },
      "execution_count": null,
      "outputs": [
        {
          "output_type": "stream",
          "name": "stdout",
          "text": [
            "Enter the number :7\n",
            "Factorial of the number is =  5040\n"
          ]
        }
      ]
    },
    {
      "cell_type": "code",
      "source": [],
      "metadata": {
        "id": "o-iYhxhFwfql"
      },
      "execution_count": null,
      "outputs": []
    }
  ]
}